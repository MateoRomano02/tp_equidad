{
 "cells": [
  {
   "cell_type": "markdown",
   "metadata": {},
   "source": [
    "# Trabajo Práctico – Equidad en Aprendizaje Automático\n",
    "**Materia:** Fairness en AA – 1er cuatrimestre 2025  \n",
    "**Dataset:** German Credit Data  \n",
    "**Repositorio:** https://github.com/MateoRomano02/tp_equidad\n",
    "\n",
    "**Integrantes:** Martin Groisman, Leandro Escudero, Mateo Romano, Valentino Bustos Sak"
   ]
  },
  {
   "cell_type": "markdown",
   "metadata": {},
   "source": [
    "# 1. Conjunto de Datos\n",
    "\n",
    "## 1.a) Descarga de los Datos\n",
    "\n",
    "- **Repositorio del proyecto:** [github.com/MateoRomano02/tp_equidad](https://github.com/MateoRomano02/tp_equidad)\n",
    "- **Ruta del archivo:** `../data/raw/german.data`\n",
    "\n",
    "---\n",
    "\n",
    "## 1.b) Datasheets for Datasets\n",
    "\n",
    "### i) Motivación\n",
    "\n",
    "1. **Propósito del conjunto de datos**\n",
    "\n",
    "   Este dataset se centra en la evaluación del riesgo crediticio, clasificando a los solicitantes de crédito como de *\"buen\"* o *\"mal riesgo\"* en función de diversos atributos personales y financieros.\n",
    "\n",
    "   No encontramos información precisa respecto a la generación de los datos, su contexto o el motivo por el que fueron recopilados. La falta de detalles es criticada por distintos usuarios que comparten y consumen este dataset, e incluso en 2019 se demostró que en Statlog está publicada una tabla de códigos incorrecta, lo que implica features mal interpretados (Grömping, 2019).\n",
    "\n",
    "   Por este motivo, consideramos utilizar la versión corregida del conjunto de datos, publicada bajo el nombre [*South German Credit*](https://archive.ics.uci.edu/ml/datasets/South+German+Credit), la cual será detallada y analizada en profundidad más adelante en este informe.\n",
    "\n",
    "2. **Entidad creadora**\n",
    "\n",
    "   Fue donado a la UCI por el profesor Hans Hofmann de la Universidad de Hamburgo el 16/11/1994. Hofmann donó los datos que se encargó de transcribir del apéndice del libro de Fahrmeir y Hamerle (1984), y si bien ellos documentaron los datos, inicialmente fueron procesados por W.M. Häußler como parte de su tesis doctoral (1979 - 1981) (Grömping, 2019).\n",
    "\n",
    "---\n",
    "\n",
    "### ii) Composición\n",
    "\n",
    "1. **Instancias**\n",
    "\n",
    "   Las instancias representan personas a las que se les otorgó créditos por medio de un gran banco regional en el sur de Alemania. Cada instancia corresponde a un único crédito/deudor. No hay múltiples tipos de instancias o entidades interactuando; el conjunto de datos se centra en perfiles individuales de créditos/deudores y sus características.\n",
    "\n",
    "   Hay un total de **1.000 instancias**, compuestas por **300 créditos clasificados como \"malos\"** y **700 \"buenos\"**. La clasificación \"bueno\" o \"malo\" se basa en si el deudor cumplió o no con las condiciones del contrato de crédito.\n",
    "\n",
    "---\n",
    "\n",
    "### iii) Proceso de recopilación\n",
    "\n",
    "1. **¿Cómo se adquirieron los datos?**\n",
    "\n",
    "   Los datos fueron adquiridos a partir de registros reales de operaciones bancarias, correspondientes a solicitudes de crédito realizadas entre **1973 y 1975** en un gran banco regional del sur de Alemania.\n",
    "\n",
    "2. **¿Los datos fueron observados directamente, informados por los sujetos o inferidos de otros datos?**\n",
    "\n",
    "   Fueron **derivados de otros datos**: tesis doctoral de W.M. Häußler → recopilados por Fahrmeir y Hamerle → transcritos por Hofmann.\n",
    "\n",
    "3. **¿Se validaron/verificaron los datos derivados?**\n",
    "\n",
    "   Sí. Hans Hofmann transcribió manualmente las primeras 1.000 filas y verificó los datos mecanografiados contra una tabla resumen del libro original. Además, se compararon versiones posteriores del conjunto de datos, detectando mínimos errores tipográficos y algunas discrepancias categóricas, pero con valores brutos mayormente consistentes (Grömping, 2019).\n",
    "\n",
    "---\n",
    "\n",
    "### iv) Preprocesamiento, limpieza y etiquetado\n",
    "\n",
    "1. **¿Se realizó algún preprocesamiento?**\n",
    "\n",
    "   Sí, en la versión corregida *South German Credit*. Los principales cambios son:\n",
    "\n",
    "   - **Corrección de tabla de códigos errónea** en la versión *Statlog/UCI*, que representaba incorrectamente varias variables categóricas:\n",
    "     - Intercambio de niveles incorrectos en atributos como `people_liable` (A18) y `foreign_worker` (A20).\n",
    "     - En `personal_status_sex` (A9), el código 2 ahora especifica claramente que combina *\"mujeres no solteras\"* y *\"hombres solteros\"*, resolviendo la ambigüedad del conjunto original.\n",
    "   - **Discretización de variables numéricas**, transformándolas en ordinales o binarias.\n",
    "   - Aunque no se documenta un manejo explícito de **valores faltantes**, se corrigieron errores tipográficos menores y se verificaron las transcripciones contra fuentes originales.\n",
    "\n",
    "---\n",
    "\n",
    "### v) Usos del conjunto de datos\n",
    "\n",
    "1. **Aplicaciones comunes**\n",
    "\n",
    "   Este conjunto de datos se ha convertido en un **benchmark clásico** de clasificación en riesgos crediticios. Ha sido empleado en numerosos estudios académicos, cursos universitarios y bibliotecas de aprendizaje automático:\n",
    "\n",
    "   - Se utiliza en materiales docentes para ilustrar regresión logística, análisis discriminante, árboles de decisión y redes neuronales en tareas de *credit scoring* (Stelzer, 2019).\n",
    "   - Se encuentra integrado en plataformas como **TensorFlow Datasets** (Google, 2023).\n",
    "   - Ha sido replicado en versiones derivadas en **Kaggle** para competencias y análisis reproducibles.\n",
    "\n",
    "2. **Usos en fairness**\n",
    "\n",
    "   Es un recurso clave en investigaciones sobre equidad algorítmica (*fairness*), dada la presencia de variables sensibles como el género. Por ejemplo, la biblioteca `fairml` en `R` incorpora este conjunto para ilustrar métodos de ajuste de sesgos (Schliep, 2018).\n",
    "\n",
    "3. **Sistemas y bibliotecas**\n",
    "\n",
    "   No existe un software comercial específico asociado, pero sí numerosos repositorios de código abierto que lo emplean con bibliotecas como `scikit-learn` o `keras`. También es ampliamente referenciado en estudios comparativos de modelos supervisados (Lemke et al., 2009).\n",
    "\n",
    "---\n",
    "\n",
    "### vi) Repositorios disponibles\n",
    "\n",
    "- **UCI Machine Learning Repository**\n",
    "  - [Versión original (Statlog)](https://archive.ics.uci.edu/ml/datasets/Statlog+(German+Credit+Data))\n",
    "  - [Versión corregida (South German Credit)](https://archive.ics.uci.edu/ml/datasets/South+German+Credit)\n",
    "\n",
    "- **Open Data LMU**\n",
    "  - [DOI: 10.5282/ubm/data.23](https://doi.org/10.5282/ubm/data.23)\n",
    "\n",
    "- **Kaggle**\n",
    "  - [German Credit Dataset](https://www.kaggle.com/uciml/german-credit)\n",
    "\n",
    "---\n",
    "\n",
    "## Reflexión, sesgos en el uso de datos historicos\n",
    "\n",
    "El conjunto de datos fue recolectado entre **1973 y 1975 en Alemania**, lo cual plantea una serie de consideraciones importantes a la hora de utilizarlo en contextos actuales. A continuación, destacamos algunos puntos clave:\n",
    "\n",
    "- **Contexto social y cultural**: los datos reflejan las condiciones de una época en la que existían desigualdades estructurales significativas en el acceso a servicios financieros, particularmente según **género, edad y nacionalidad**.\n",
    "\n",
    "- **Posibilidad de sesgos históricos**: estas desigualdades pueden haberse traducido en decisiones de otorgamiento de créditos sesgadas, y por ende, estar presentes en los datos. Aunque el contexto actual haya cambiado, los modelos de aprendizaje automático pueden **aprender y perpetuar esos patrones discriminatorios** si no se toman medidas al respecto.\n",
    "\n",
    "- **Importancia del análisis crítico**: al trabajar con datos históricos, resulta fundamental adoptar una mirada crítica. No basta con entrenar modelos con buenas métricas; también debemos evaluar sus implicancias sociales.\n",
    "\n",
    "- **Mitigación necesaria**: es indispensable aplicar técnicas de mitigación de sesgos para reducir la reproducción de discriminaciones injustificadas en aplicaciones modernas.\n",
    "\n",
    "En definitiva, la antigüedad del dataset no lo invalida, pero sí requiere **un enfoque ético y responsable** en su uso, especialmente cuando se analizan variables sensibles como el género.\n",
    "\n",
    "\n",
    "---\n",
    "\n",
    "## Conclusión del punto 1\n",
    "\n",
    "En conclusión, el conjunto de datos **German Credit Data** constituye una base sólida y ampliamente estudiada para tareas de clasificación binaria.\n",
    "\n",
    "Es rico en atributos financieros y personales, así como la presencia de variables sensibles como género, lo convierten en un excelente caso de estudio para evaluar y mitigar sesgos en modelos de aprendizaje automático. Esto lo convierte en un punto de partida ideal para pensar no solo en métricas, sino también en el impacto social que pueden tener nuestras decisiones técnicas.\n",
    "\n",
    "---\n",
    "\n",
    "## Fuentes consultadas\n",
    "\n",
    "- Grömping, U. (2019). *South German Credit Data: Correcting a Widely Used Data Set.* Reports in Mathematics, Physics and Chemistry, 04/2019. Fachbereich II, Beuth Hochschule für Technik Berlin. [Link](http://www1.beuth-hochschule.de/FB_II/reports/welcome.htm)\n",
    "- Google. (2023). *German Credit Numeric Dataset.* TensorFlow Datasets. [Link](https://www.tensorflow.org/datasets/catalog/german_credit_numeric)\n",
    "- Kaggle. *German Credit Risk Dataset.* [Link](https://www.kaggle.com/datasets)\n",
    "- Lemke, C., Gabrys, B., & Buhmann, J. M. (2009). *Automatic selection of spectral channels using mutual information.* IEEE Trans. on Pattern Analysis and Machine Intelligence, 28(12), 1939–1951. https://doi.org/10.1109/TPAMI.2006.248\n",
    "- Schliep, K. (2018). *fairml: Fair Machine Learning.* CRAN. [Link](https://cran.r-project.org/package=fairml)\n",
    "- Stelzer, E. (2019). *Modelos de evaluación de riesgo crediticio aplicando técnicas de aprendizaje supervisado.* UNLP. [Link](http://sedici.unlp.edu.ar/handle/10915/102542)\n",
    "- UCI Machine Learning Repository. (1994). *Statlog (German Credit Data) Data Set.* University of California, Irvine. [Link](https://archive.ics.uci.edu/ml/datasets/statlog+(german+credit+data))\n"
   ]
  },
  {
   "cell_type": "markdown",
   "metadata": {},
   "source": [
    "# Análisis Exploratorio y Detección de Sesgos\n",
    "\n",
    "## Dataset utilizado\n",
    "\n",
    "Para el análisis exploratorio empleamos la versión corregida del conjunto de datos, conocida como [*South German Credit*](https://archive.ics.uci.edu/ml/datasets/South+German+Credit), publicada por Grömping (2019). Esta versión corrige errores categóricos presentes en el dataset original (*Statlog*), especialmente en la variable `personal_status_sex`, que combinaba género y estado civil de forma ambigua.\n",
    "\n",
    "El conjunto contiene **1.000 instancias** y **21 columnas**, entre ellas atributos numéricos, categóricos, y la variable objetivo `target`, que indica si un solicitante representa un \"buen\" o \"mal\" riesgo crediticio.\n"
   ]
  },
  {
   "cell_type": "code",
   "execution_count": null,
   "metadata": {},
   "outputs": [],
   "source": [
    "import pandas as pd\n",
    "import numpy as np\n",
    "from sklearn.ensemble import RandomForestClassifier\n",
    "from sklearn.model_selection import train_test_split, GridSearchCV, StratifiedKFold\n",
    "from sklearn.metrics import classification_report\n",
    "from imblearn.over_sampling import SMOTE\n",
    "from imblearn.pipeline import Pipeline\n",
    "\n",
    "# 1. Cargar datos corregidos\n",
    "df = pd.read_csv(\"../data/raw/SouthGermanCredit.csv\")\n",
    "df = df.rename(columns={\"credit_risk\": \"target\"})\n",
    "\n",
    "# 2. Separar casos certeros y ambiguos\n",
    "df_certero = df[df[\"personal_status_sex\"] != \"female : non-single or male : single\"].copy()\n",
    "df_sin_sex = df[df[\"personal_status_sex\"] == \"female : non-single or male : single\"].drop(columns=[\"personal_status_sex\"]).copy()\n",
    "\n",
    "# 3. Reconstruir variables sexo y estado civil\n",
    "df_certero[\"sex\"] = df_certero[\"personal_status_sex\"].map(lambda x: \"female\" if \"female\" in x else \"male\")\n",
    "\n",
    "def extract_status(x):\n",
    "    if \"married\" in x or \"widowed\" in x:\n",
    "        return \"married/widowed\"\n",
    "    elif \"single\" in x:\n",
    "        return \"single\"\n",
    "    elif \"divorced\" in x or \"separated\" in x:\n",
    "        return \"divorced/separated\"\n",
    "    return \"unknown\"\n",
    "\n",
    "df_certero[\"personal_status\"] = df_certero[\"personal_status_sex\"].map(extract_status)\n",
    "df_certero = df_certero.drop(columns=[\"personal_status_sex\"])\n",
    "\n",
    "# 4. Modelado para imputación\n",
    "feature_cols = [col for col in df_certero.columns if col not in [\"sex\", \"personal_status\", \"target\"]]\n",
    "X = pd.get_dummies(df_certero[feature_cols], drop_first=True)\n",
    "y = df_certero[\"sex\"]\n",
    "\n",
    "X_train, X_test, y_train, y_test = train_test_split(X, y, stratify=y, random_state=42, test_size=0.2)\n",
    "\n",
    "pipeline = Pipeline([\n",
    "    ('smote', SMOTE(random_state=42)),\n",
    "    ('rf', RandomForestClassifier(random_state=42))\n",
    "])\n",
    "\n",
    "param_grid = {\n",
    "    'rf__n_estimators': [100, 200],\n",
    "    'rf__max_depth': [None, 10],\n",
    "    'rf__min_samples_split': [2, 5],\n",
    "    'rf__min_samples_leaf': [1, 3]\n",
    "}\n",
    "\n",
    "cv = StratifiedKFold(n_splits=5, shuffle=True, random_state=42)\n",
    "\n",
    "grid = GridSearchCV(pipeline, param_grid, scoring='recall_macro', cv=cv, n_jobs=-1, verbose=1)\n",
    "grid.fit(X_train, y_train)\n",
    "\n",
    "print(\"Mejor combinación:\", grid.best_params_)\n",
    "print(classification_report(y_test, grid.predict(X_test)))\n",
    "\n",
    "# 5. Imputar sexo en df_sin_sex\n",
    "df_sin_sex_proc = pd.get_dummies(df_sin_sex[feature_cols], drop_first=True)\n",
    "for col in X.columns.difference(df_sin_sex_proc.columns):\n",
    "    df_sin_sex_proc[col] = 0\n",
    "df_sin_sex_proc = df_sin_sex_proc[X.columns]\n",
    "\n",
    "sex_pred = grid.predict(df_sin_sex_proc)\n",
    "\n",
    "df_sin_sex_final = df_sin_sex.copy()\n",
    "df_sin_sex_final[\"sex\"] = sex_pred\n",
    "df_sin_sex_final[\"personal_status\"] = df_sin_sex_final[\"sex\"].map(\n",
    "    lambda x: \"non-single\" if x == \"female\" else \"single\"\n",
    ")\n",
    "\n",
    "# 6. Dataset final: df_completo\n",
    "df_completo = pd.concat([df_certero, df_sin_sex_final], ignore_index=True)\n",
    "df_completo[\"personal_status\"] = df_completo[\"personal_status\"].replace({\n",
    "    \"married/widowed\": \"non-single\",\n",
    "    \"divorced/separated\": \"single\"\n",
    "})\n",
    "\n",
    "# 7. Guardar por si querés usarlo después\n",
    "df_completo.to_csv(\"../data/processed/south_german_credit_clean.csv\", index=False)\n"
   ]
  },
  {
   "cell_type": "code",
   "execution_count": 8,
   "metadata": {},
   "outputs": [
    {
     "name": "stdout",
     "output_type": "stream",
     "text": [
      "<class 'pandas.core.frame.DataFrame'>\n",
      "RangeIndex: 1000 entries, 0 to 999\n",
      "Data columns (total 21 columns):\n",
      " #   Column                   Non-Null Count  Dtype \n",
      "---  ------                   --------------  ----- \n",
      " 0   status                   1000 non-null   object\n",
      " 1   duration                 1000 non-null   int64 \n",
      " 2   credit_history           1000 non-null   object\n",
      " 3   purpose                  1000 non-null   object\n",
      " 4   amount                   1000 non-null   int64 \n",
      " 5   savings                  1000 non-null   object\n",
      " 6   employment_duration      1000 non-null   object\n",
      " 7   installment_rate         1000 non-null   object\n",
      " 8   personal_status_sex      1000 non-null   object\n",
      " 9   other_debtors            1000 non-null   object\n",
      " 10  present_residence        1000 non-null   object\n",
      " 11  property                 1000 non-null   object\n",
      " 12  age                      1000 non-null   int64 \n",
      " 13  other_installment_plans  1000 non-null   object\n",
      " 14  housing                  1000 non-null   object\n",
      " 15  number_credits           1000 non-null   object\n",
      " 16  job                      1000 non-null   object\n",
      " 17  people_liable            1000 non-null   object\n",
      " 18  telephone                1000 non-null   object\n",
      " 19  foreign_worker           1000 non-null   object\n",
      " 20  target                   1000 non-null   object\n",
      "dtypes: int64(3), object(18)\n",
      "memory usage: 164.2+ KB\n"
     ]
    }
   ],
   "source": [
    "import pandas as pd\n",
    "\n",
    "df = pd.read_csv(\"../data/raw/SouthGermanCredit.csv\")\n",
    "df = df.rename(columns={\"credit_risk\": \"target\"})\n",
    "df.info()"
   ]
  },
  {
   "cell_type": "markdown",
   "metadata": {},
   "source": [
    "## Reconstrucción de género y estado civil\n",
    "\n",
    "El dataset contiene 310 instancias con la etiqueta ambigua `\"female : non-single or male : single\"`, que impide recuperar con certeza el género. Para resolver esto implementamos el siguiente proceso:\n",
    "\n",
    "### Estrategia adoptada\n",
    "\n",
    "1. Separar las instancias con género claro (`df_certero`) de las ambiguas (`df_sin_sex`).\n",
    "2. Crear la variable `sex` en base a la presencia del string \"female\" o \"male\".\n",
    "3. Extraer el estado civil en una nueva variable `personal_status` con las siguientes reglas:\n",
    "   - `\"married/widowed\"`, `\"divorced/separated\"` → `\"non-single\"`\n",
    "   - `\"single\"` → `\"single\"`"
   ]
  },
  {
   "cell_type": "markdown",
   "metadata": {},
   "source": [
    "Posteriormente, entrenamos un modelo **Random Forest** con validación cruzada y técnica de oversampling SMOTE para predecir el sexo de las 310 instancias ambiguas. Se priorizó el `recall_macro` para mejorar la detección del grupo minoritario (mujeres).\n"
   ]
  },
  {
   "cell_type": "markdown",
   "metadata": {},
   "source": [
    "> El modelo mejoró el recall de `female` de 33% a 56% en test set. Esto nos permitió imputar el género de forma más confiable.\n",
    "\n",
    "Las predicciones se usaron para reconstruir `df_sin_sex_final`, que se completó con las etiquetas de sexo y estado civil imputadas:\n"
   ]
  },
  {
   "cell_type": "markdown",
   "metadata": {},
   "source": [
    "## Composición final del dataset\n",
    "\n",
    "Una vez imputadas las instancias ambiguas:\n",
    "\n",
    "- 838 instancias fueron clasificadas como **male**\n",
    "- 162 instancias como **female**\n",
    "\n",
    "Creamos la variable final `personal_status` agrupando todas las categorías en solo dos:\n",
    "- `\"single\"`\n",
    "- `\"non-single\"`"
   ]
  },
  {
   "cell_type": "code",
   "execution_count": 22,
   "metadata": {},
   "outputs": [
    {
     "data": {
      "image/png": "[encoded data removed]",
      "text/plain": [
       "<Figure size 640x480 with 1 Axes>"
      ]
     },
     "metadata": {},
     "output_type": "display_data"
    }
   ],
   "source": [
    "import seaborn as sns\n",
    "import matplotlib.pyplot as plt\n",
    "\n",
    "sns.countplot(data=df_completo, x=\"sex\", hue=\"personal_status\", palette=\"Set2\")\n",
    "plt.title(\"Distribución de sexo desagregada por estado civil\")\n",
    "plt.xlabel(\"Sexo\")\n",
    "plt.ylabel(\"Cantidad\")\n",
    "plt.legend(title=\"Estado civil\")\n",
    "plt.show()"
   ]
  },
  {
   "cell_type": "markdown",
   "metadata": {},
   "source": [
    "## Distribución de género y estado civil"
   ]
  },
  {
   "cell_type": "code",
   "execution_count": 18,
   "metadata": {},
   "outputs": [
    {
     "data": {
      "image/png": "[encoded data removed]",
      "text/plain": [
       "<Figure size 640x480 with 1 Axes>"
      ]
     },
     "metadata": {},
     "output_type": "display_data"
    }
   ],
   "source": [
    "import seaborn as sns\n",
    "import matplotlib.pyplot as plt\n",
    "\n",
    "sns.countplot(data=df_completo, x=\"sex\", hue=\"personal_status\", palette=\"Set2\")\n",
    "plt.title(\"Distribución de sexo desagregada por estado civil\")\n",
    "plt.xlabel(\"Sexo\")\n",
    "plt.ylabel(\"Cantidad\")\n",
    "plt.legend(title=\"Estado civil\")\n",
    "plt.show()"
   ]
  },
  {
   "cell_type": "markdown",
   "metadata": {},
   "source": [
    "Como se observa:\n",
    "- La mayoría de las instancias son hombres casados o viudos.\n",
    "- Las mujeres aparecen tanto en estado \"single\" como \"non-single\".\n",
    "\n",
    "Esta desproporción de género sugiere un primer indicio de desequilibrio que puede generar sesgos si no se compensa adecuadamente.\n"
   ]
  },
  {
   "cell_type": "markdown",
   "metadata": {},
   "source": [
    "## Observaciones iniciales sobre sesgos\n",
    "\n",
    "A partir de las variables `sex`, `personal_status` y `target` podemos observar algunos puntos clave:\n",
    "\n",
    "- Las mujeres están **subrepresentadas** en el conjunto de datos (16%). Esto puede hacer que el modelo tenga peor desempeño en ese grupo.\n",
    "- La variable `personal_status_sex`, tal como venía codificada en el dataset original, combinaba sexo y estado civil en una sola categoría. Eso representa una **fuga de información indirecta del género**.\n",
    "- Algunas variables como `foreign_worker` o `housing` podrían estar correlacionadas con factores sensibles. Requieren atención en etapas posteriores del análisis.\n",
    "\n",
    "Estas observaciones iniciales no implican que el modelo necesariamente será sesgado, pero sí marcan la necesidad de evaluar equidad de forma explícita.\n",
    "\n",
    "---\n",
    "\n",
    "## 2.6 Distribución del riesgo crediticio (`target`)\n"
   ]
  },
  {
   "cell_type": "code",
   "execution_count": 23,
   "metadata": {},
   "outputs": [
    {
     "name": "stderr",
     "output_type": "stream",
     "text": [
      "/var/folders/8s/gtrvqq852fx0ypk0lwv34pw00000gn/T/ipykernel_72268/37697715.py:1: FutureWarning: \n",
      "\n",
      "Passing `palette` without assigning `hue` is deprecated and will be removed in v0.14.0. Assign the `x` variable to `hue` and set `legend=False` for the same effect.\n",
      "\n",
      "  sns.countplot(data=df_completo, x=\"target\", palette=\"Set2\")\n"
     ]
    },
    {
     "data": {
      "image/png": "[encoded data removed]",
      "text/plain": [
       "<Figure size 640x480 with 1 Axes>"
      ]
     },
     "metadata": {},
     "output_type": "display_data"
    }
   ],
   "source": [
    "sns.countplot(data=df_completo, x=\"target\", palette=\"Set2\")\n",
    "plt.title(\"Distribución del riesgo crediticio\")\n",
    "plt.xlabel(\"Clase\")\n",
    "plt.ylabel(\"Cantidad\")\n",
    "plt.show()"
   ]
  },
  {
   "cell_type": "markdown",
   "metadata": {},
   "source": [
    "El dataset tiene 700 instancias etiquetadas como `good` y 300 como `bad`. Esto representa un **desequilibrio 70/30**, que es común en datasets reales pero que puede influir en la performance del modelo si no se manejan bien las métricas.\n",
    "\n",
    "---\n",
    "\n",
    "## Distribución de edad"
   ]
  },
  {
   "cell_type": "code",
   "execution_count": 20,
   "metadata": {},
   "outputs": [
    {
     "data": {
      "image/png": "[encoded data removed]",
      "text/plain": [
       "<Figure size 640x480 with 1 Axes>"
      ]
     },
     "metadata": {},
     "output_type": "display_data"
    }
   ],
   "source": [
    "sns.histplot(data=df_completo, x=\"age\", bins=20, kde=True, color=\"#66c2a5\")\n",
    "plt.title(\"Distribución de edades\")\n",
    "plt.xlabel(\"Edad\")\n",
    "plt.ylabel(\"Cantidad\")\n",
    "plt.show()"
   ]
  },
  {
   "cell_type": "markdown",
   "metadata": {},
   "source": [
    "La mayoría de los solicitantes tienen entre **20 y 50 años**. Hay algunos casos con edad mayor a 60, pero son pocos. La distribución tiene una ligera asimetría hacia la derecha.\n",
    "\n",
    "---\n",
    "\n",
    "## Proporción de target por sexo"
   ]
  },
  {
   "cell_type": "code",
   "execution_count": 21,
   "metadata": {},
   "outputs": [
    {
     "data": {
      "image/png": "[encoded data removed]",
      "text/plain": [
       "<Figure size 640x480 with 1 Axes>"
      ]
     },
     "metadata": {},
     "output_type": "display_data"
    }
   ],
   "source": [
    "sns.countplot(data=df_completo, x=\"sex\", hue=\"target\", palette=\"Set2\")\n",
    "plt.title(\"Proporción de riesgo crediticio por género\")\n",
    "plt.xlabel(\"Sexo\")\n",
    "plt.ylabel(\"Cantidad\")\n",
    "plt.legend(title=\"Riesgo\")\n",
    "plt.show()"
   ]
  },
  {
   "cell_type": "markdown",
   "metadata": {},
   "source": [
    "Aunque los hombres representan la gran mayoría de los registros, **las mujeres tienen una proporción levemente mayor de casos `good`**. Esto no implica que el modelo será justo por defecto, pero muestra que existen diferencias que deben ser evaluadas con métricas de fairness específicas más adelante.\n"
   ]
  },
  {
   "cell_type": "markdown",
   "metadata": {},
   "source": [
    "## Conclusión del análisis exploratorio\n",
    "\n",
    "En resumen, el análisis exploratorio nos permitio comprender mejor la composición y las particularidades del dataset. Reconstruimos variables clave como el género y el estado civil, identificamos una subrepresentación importante de mujeres, y detectamos posibles fuentes de sesgo en la codificación original de los datos. También observamos un desbalance en la variable objetivo y analizamos la distribución etaria de los solicitantes.\n",
    "\n",
    "Estos hallazgos no solo nos sirven para entender mejor los datos, sino que también nos preparan para evaluar y mitigar posibles desigualdades en los modelos predictivos que entrenaremos a continuación."
   ]
  },
  {
   "cell_type": "markdown",
   "metadata": {},
   "source": [
    "# 02 - Modelo Inicial\n",
    "Repositorio: [github.com/MateoRomano02/tp_equidad](https://github.com/MateoRomano02/tp_equidad)\n",
    "\n",
    "\n",
    "Este notebook corresponde al punto N°2, N°3 y N°4 del TP"
   ]
  },
  {
   "cell_type": "markdown",
   "metadata": {},
   "source": [
    "## Objetivo\n",
    "Entrenar un modelo de clasificación sobre el dataset *German Credit Data* y evaluar su rendimiento con métricas como accuracy, precision, recall y F1-score. Además, se analizará cuál error es más costoso para el banco."
   ]
  },
  {
   "cell_type": "code",
   "execution_count": null,
   "metadata": {},
   "outputs": [],
   "source": [
    "import pandas as pd\n",
    "import numpy as np\n",
    "import seaborn as sns\n",
    "import matplotlib.pyplot as plt\n",
    "from sklearn.model_selection import train_test_split, GridSearchCV\n",
    "from sklearn.tree import DecisionTreeClassifier\n",
    "from sklearn.metrics import classification_report, confusion_matrix\n",
    "from sklearn.preprocessing import StandardScaler\n",
    "from imblearn.over_sampling import SMOTE\n",
    "from imblearn.pipeline import Pipeline as ImbPipeline\n",
    "from holisticai.bias.mitigation import Reweighing\n",
    "from holisticai.pipeline import Pipeline as HolPipeline\n",
    "from holisticai.bias.mitigation import CorrelationRemover\n"
   ]
  },
  {
   "cell_type": "markdown",
   "metadata": {},
   "source": [
    "## Carga de datos"
   ]
  },
  {
   "cell_type": "code",
   "execution_count": null,
   "metadata": {},
   "outputs": [
    {
     "data": {
      "application/vnd.google.colaboratory.intrinsic+json": {
       "type": "dataframe",
       "variable_name": "df"
      },
      "text/html": [
       "\n",
       "  <div id=\"df-f20f68af-423b-4c13-83d5-90c764cac338\" class=\"colab-df-container\">\n",
       "    <div>\n",
       "<style scoped>\n",
       "    .dataframe tbody tr th:only-of-type {\n",
       "        vertical-align: middle;\n",
       "    }\n",
       "\n",
       "    .dataframe tbody tr th {\n",
       "        vertical-align: top;\n",
       "    }\n",
       "\n",
       "    .dataframe thead th {\n",
       "        text-align: right;\n",
       "    }\n",
       "</style>\n",
       "<table border=\"1\" class=\"dataframe\">\n",
       "  <thead>\n",
       "    <tr style=\"text-align: right;\">\n",
       "      <th></th>\n",
       "      <th>status</th>\n",
       "      <th>duration</th>\n",
       "      <th>credit_history</th>\n",
       "      <th>purpose</th>\n",
       "      <th>amount</th>\n",
       "      <th>savings</th>\n",
       "      <th>employment_duration</th>\n",
       "      <th>installment_rate</th>\n",
       "      <th>other_debtors</th>\n",
       "      <th>present_residence</th>\n",
       "      <th>...</th>\n",
       "      <th>other_installment_plans</th>\n",
       "      <th>housing</th>\n",
       "      <th>number_credits</th>\n",
       "      <th>job</th>\n",
       "      <th>people_liable</th>\n",
       "      <th>telephone</th>\n",
       "      <th>foreign_worker</th>\n",
       "      <th>target</th>\n",
       "      <th>sex</th>\n",
       "      <th>personal_status</th>\n",
       "    </tr>\n",
       "  </thead>\n",
       "  <tbody>\n",
       "    <tr>\n",
       "      <th>0</th>\n",
       "      <td>no checking account</td>\n",
       "      <td>9</td>\n",
       "      <td>all credits at this bank paid back duly</td>\n",
       "      <td>others</td>\n",
       "      <td>2799</td>\n",
       "      <td>unknown/no savings account</td>\n",
       "      <td>1 &lt;= ... &lt; 4 yrs</td>\n",
       "      <td>25 &lt;= ... &lt; 35</td>\n",
       "      <td>none</td>\n",
       "      <td>1 &lt;= ... &lt; 4 yrs</td>\n",
       "      <td>...</td>\n",
       "      <td>none</td>\n",
       "      <td>for free</td>\n",
       "      <td>2-3</td>\n",
       "      <td>skilled employee/official</td>\n",
       "      <td>3 or more</td>\n",
       "      <td>no</td>\n",
       "      <td>no</td>\n",
       "      <td>good</td>\n",
       "      <td>male</td>\n",
       "      <td>non-single</td>\n",
       "    </tr>\n",
       "    <tr>\n",
       "      <th>1</th>\n",
       "      <td>no checking account</td>\n",
       "      <td>12</td>\n",
       "      <td>all credits at this bank paid back duly</td>\n",
       "      <td>others</td>\n",
       "      <td>2122</td>\n",
       "      <td>unknown/no savings account</td>\n",
       "      <td>1 &lt;= ... &lt; 4 yrs</td>\n",
       "      <td>20 &lt;= ... &lt; 25</td>\n",
       "      <td>none</td>\n",
       "      <td>1 &lt;= ... &lt; 4 yrs</td>\n",
       "      <td>...</td>\n",
       "      <td>none</td>\n",
       "      <td>for free</td>\n",
       "      <td>2-3</td>\n",
       "      <td>unskilled - resident</td>\n",
       "      <td>3 or more</td>\n",
       "      <td>no</td>\n",
       "      <td>yes</td>\n",
       "      <td>good</td>\n",
       "      <td>male</td>\n",
       "      <td>non-single</td>\n",
       "    </tr>\n",
       "    <tr>\n",
       "      <th>2</th>\n",
       "      <td>no checking account</td>\n",
       "      <td>12</td>\n",
       "      <td>all credits at this bank paid back duly</td>\n",
       "      <td>others</td>\n",
       "      <td>2171</td>\n",
       "      <td>unknown/no savings account</td>\n",
       "      <td>1 &lt;= ... &lt; 4 yrs</td>\n",
       "      <td>&lt; 20</td>\n",
       "      <td>none</td>\n",
       "      <td>&gt;= 7 yrs</td>\n",
       "      <td>...</td>\n",
       "      <td>bank</td>\n",
       "      <td>rent</td>\n",
       "      <td>2-3</td>\n",
       "      <td>unskilled - resident</td>\n",
       "      <td>0 to 2</td>\n",
       "      <td>no</td>\n",
       "      <td>yes</td>\n",
       "      <td>good</td>\n",
       "      <td>male</td>\n",
       "      <td>non-single</td>\n",
       "    </tr>\n",
       "    <tr>\n",
       "      <th>3</th>\n",
       "      <td>no checking account</td>\n",
       "      <td>10</td>\n",
       "      <td>all credits at this bank paid back duly</td>\n",
       "      <td>others</td>\n",
       "      <td>2241</td>\n",
       "      <td>unknown/no savings account</td>\n",
       "      <td>&lt; 1 yr</td>\n",
       "      <td>&gt;= 35</td>\n",
       "      <td>none</td>\n",
       "      <td>4 &lt;= ... &lt; 7 yrs</td>\n",
       "      <td>...</td>\n",
       "      <td>none</td>\n",
       "      <td>for free</td>\n",
       "      <td>2-3</td>\n",
       "      <td>unskilled - resident</td>\n",
       "      <td>3 or more</td>\n",
       "      <td>no</td>\n",
       "      <td>yes</td>\n",
       "      <td>good</td>\n",
       "      <td>male</td>\n",
       "      <td>non-single</td>\n",
       "    </tr>\n",
       "    <tr>\n",
       "      <th>4</th>\n",
       "      <td>no checking account</td>\n",
       "      <td>8</td>\n",
       "      <td>all credits at this bank paid back duly</td>\n",
       "      <td>others</td>\n",
       "      <td>3398</td>\n",
       "      <td>unknown/no savings account</td>\n",
       "      <td>4 &lt;= ... &lt; 7 yrs</td>\n",
       "      <td>&gt;= 35</td>\n",
       "      <td>none</td>\n",
       "      <td>&gt;= 7 yrs</td>\n",
       "      <td>...</td>\n",
       "      <td>none</td>\n",
       "      <td>rent</td>\n",
       "      <td>2-3</td>\n",
       "      <td>unskilled - resident</td>\n",
       "      <td>0 to 2</td>\n",
       "      <td>no</td>\n",
       "      <td>yes</td>\n",
       "      <td>good</td>\n",
       "      <td>male</td>\n",
       "      <td>non-single</td>\n",
       "    </tr>\n",
       "  </tbody>\n",
       "</table>\n",
       "<p>5 rows × 22 columns</p>\n",
       "</div>\n",
       "    <div class=\"colab-df-buttons\">\n",
       "\n",
       "  <div class=\"colab-df-container\">\n",
       "    <button class=\"colab-df-convert\" onclick=\"convertToInteractive('df-f20f68af-423b-4c13-83d5-90c764cac338')\"\n",
       "            title=\"Convert this dataframe to an interactive table.\"\n",
       "            style=\"display:none;\">\n",
       "\n",
       "  <svg xmlns=\"http://www.w3.org/2000/svg\" height=\"24px\" viewBox=\"0 -960 960 960\">\n",
       "    <path d=\"M120-120v-720h720v720H120Zm60-500h600v-160H180v160Zm220 220h160v-160H400v160Zm0 220h160v-160H400v160ZM180-400h160v-160H180v160Zm440 0h160v-160H620v160ZM180-180h160v-160H180v160Zm440 0h160v-160H620v160Z\"/>\n",
       "  </svg>\n",
       "    </button>\n",
       "\n",
       "  <style>\n",
       "    .colab-df-container {\n",
       "      display:flex;\n",
       "      gap: 12px;\n",
       "    }\n",
       "\n",
       "    .colab-df-convert {\n",
       "      background-color: #E8F0FE;\n",
       "      border: none;\n",
       "      border-radius: 50%;\n",
       "      cursor: pointer;\n",
       "      display: none;\n",
       "      fill: #1967D2;\n",
       "      height: 32px;\n",
       "      padding: 0 0 0 0;\n",
       "      width: 32px;\n",
       "    }\n",
       "\n",
       "    .colab-df-convert:hover {\n",
       "      background-color: #E2EBFA;\n",
       "      box-shadow: 0px 1px 2px rgba(60, 64, 67, 0.3), 0px 1px 3px 1px rgba(60, 64, 67, 0.15);\n",
       "      fill: #174EA6;\n",
       "    }\n",
       "\n",
       "    .colab-df-buttons div {\n",
       "      margin-bottom: 4px;\n",
       "    }\n",
       "\n",
       "    [theme=dark] .colab-df-convert {\n",
       "      background-color: #3B4455;\n",
       "      fill: #D2E3FC;\n",
       "    }\n",
       "\n",
       "    [theme=dark] .colab-df-convert:hover {\n",
       "      background-color: #434B5C;\n",
       "      box-shadow: 0px 1px 3px 1px rgba(0, 0, 0, 0.15);\n",
       "      filter: drop-shadow(0px 1px 2px rgba(0, 0, 0, 0.3));\n",
       "      fill: #FFFFFF;\n",
       "    }\n",
       "  </style>\n",
       "\n",
       "    <script>\n",
       "      const buttonEl =\n",
       "        document.querySelector('#df-f20f68af-423b-4c13-83d5-90c764cac338 button.colab-df-convert');\n",
       "      buttonEl.style.display =\n",
       "        google.colab.kernel.accessAllowed ? 'block' : 'none';\n",
       "\n",
       "      async function convertToInteractive(key) {\n",
       "        const element = document.querySelector('#df-f20f68af-423b-4c13-83d5-90c764cac338');\n",
       "        const dataTable =\n",
       "          await google.colab.kernel.invokeFunction('convertToInteractive',\n",
       "                                                    [key], {});\n",
       "        if (!dataTable) return;\n",
       "\n",
       "        const docLinkHtml = 'Like what you see? Visit the ' +\n",
       "          '<a target=\"_blank\" href=https://colab.research.google.com/notebooks/data_table.ipynb>data table notebook</a>'\n",
       "          + ' to learn more about interactive tables.';\n",
       "        element.innerHTML = '';\n",
       "        dataTable['output_type'] = 'display_data';\n",
       "        await google.colab.output.renderOutput(dataTable, element);\n",
       "        const docLink = document.createElement('div');\n",
       "        docLink.innerHTML = docLinkHtml;\n",
       "        element.appendChild(docLink);\n",
       "      }\n",
       "    </script>\n",
       "  </div>\n",
       "\n",
       "\n",
       "    <div id=\"df-df18f858-a832-410d-a4b2-e6325053850c\">\n",
       "      <button class=\"colab-df-quickchart\" onclick=\"quickchart('df-df18f858-a832-410d-a4b2-e6325053850c')\"\n",
       "                title=\"Suggest charts\"\n",
       "                style=\"display:none;\">\n",
       "\n",
       "<svg xmlns=\"http://www.w3.org/2000/svg\" height=\"24px\"viewBox=\"0 0 24 24\"\n",
       "     width=\"24px\">\n",
       "    <g>\n",
       "        <path d=\"M19 3H5c-1.1 0-2 .9-2 2v14c0 1.1.9 2 2 2h14c1.1 0 2-.9 2-2V5c0-1.1-.9-2-2-2zM9 17H7v-7h2v7zm4 0h-2V7h2v10zm4 0h-2v-4h2v4z\"/>\n",
       "    </g>\n",
       "</svg>\n",
       "      </button>\n",
       "\n",
       "<style>\n",
       "  .colab-df-quickchart {\n",
       "      --bg-color: #E8F0FE;\n",
       "      --fill-color: #1967D2;\n",
       "      --hover-bg-color: #E2EBFA;\n",
       "      --hover-fill-color: #174EA6;\n",
       "      --disabled-fill-color: #AAA;\n",
       "      --disabled-bg-color: #DDD;\n",
       "  }\n",
       "\n",
       "  [theme=dark] .colab-df-quickchart {\n",
       "      --bg-color: #3B4455;\n",
       "      --fill-color: #D2E3FC;\n",
       "      --hover-bg-color: #434B5C;\n",
       "      --hover-fill-color: #FFFFFF;\n",
       "      --disabled-bg-color: #3B4455;\n",
       "      --disabled-fill-color: #666;\n",
       "  }\n",
       "\n",
       "  .colab-df-quickchart {\n",
       "    background-color: var(--bg-color);\n",
       "    border: none;\n",
       "    border-radius: 50%;\n",
       "    cursor: pointer;\n",
       "    display: none;\n",
       "    fill: var(--fill-color);\n",
       "    height: 32px;\n",
       "    padding: 0;\n",
       "    width: 32px;\n",
       "  }\n",
       "\n",
       "  .colab-df-quickchart:hover {\n",
       "    background-color: var(--hover-bg-color);\n",
       "    box-shadow: 0 1px 2px rgba(60, 64, 67, 0.3), 0 1px 3px 1px rgba(60, 64, 67, 0.15);\n",
       "    fill: var(--button-hover-fill-color);\n",
       "  }\n",
       "\n",
       "  .colab-df-quickchart-complete:disabled,\n",
       "  .colab-df-quickchart-complete:disabled:hover {\n",
       "    background-color: var(--disabled-bg-color);\n",
       "    fill: var(--disabled-fill-color);\n",
       "    box-shadow: none;\n",
       "  }\n",
       "\n",
       "  .colab-df-spinner {\n",
       "    border: 2px solid var(--fill-color);\n",
       "    border-color: transparent;\n",
       "    border-bottom-color: var(--fill-color);\n",
       "    animation:\n",
       "      spin 1s steps(1) infinite;\n",
       "  }\n",
       "\n",
       "  @keyframes spin {\n",
       "    0% {\n",
       "      border-color: transparent;\n",
       "      border-bottom-color: var(--fill-color);\n",
       "      border-left-color: var(--fill-color);\n",
       "    }\n",
       "    20% {\n",
       "      border-color: transparent;\n",
       "      border-left-color: var(--fill-color);\n",
       "      border-top-color: var(--fill-color);\n",
       "    }\n",
       "    30% {\n",
       "      border-color: transparent;\n",
       "      border-left-color: var(--fill-color);\n",
       "      border-top-color: var(--fill-color);\n",
       "      border-right-color: var(--fill-color);\n",
       "    }\n",
       "    40% {\n",
       "      border-color: transparent;\n",
       "      border-right-color: var(--fill-color);\n",
       "      border-top-color: var(--fill-color);\n",
       "    }\n",
       "    60% {\n",
       "      border-color: transparent;\n",
       "      border-right-color: var(--fill-color);\n",
       "    }\n",
       "    80% {\n",
       "      border-color: transparent;\n",
       "      border-right-color: var(--fill-color);\n",
       "      border-bottom-color: var(--fill-color);\n",
       "    }\n",
       "    90% {\n",
       "      border-color: transparent;\n",
       "      border-bottom-color: var(--fill-color);\n",
       "    }\n",
       "  }\n",
       "</style>\n",
       "\n",
       "      <script>\n",
       "        async function quickchart(key) {\n",
       "          const quickchartButtonEl =\n",
       "            document.querySelector('#' + key + ' button');\n",
       "          quickchartButtonEl.disabled = true;  // To prevent multiple clicks.\n",
       "          quickchartButtonEl.classList.add('colab-df-spinner');\n",
       "          try {\n",
       "            const charts = await google.colab.kernel.invokeFunction(\n",
       "                'suggestCharts', [key], {});\n",
       "          } catch (error) {\n",
       "            console.error('Error during call to suggestCharts:', error);\n",
       "          }\n",
       "          quickchartButtonEl.classList.remove('colab-df-spinner');\n",
       "          quickchartButtonEl.classList.add('colab-df-quickchart-complete');\n",
       "        }\n",
       "        (() => {\n",
       "          let quickchartButtonEl =\n",
       "            document.querySelector('#df-df18f858-a832-410d-a4b2-e6325053850c button');\n",
       "          quickchartButtonEl.style.display =\n",
       "            google.colab.kernel.accessAllowed ? 'block' : 'none';\n",
       "        })();\n",
       "      </script>\n",
       "    </div>\n",
       "\n",
       "    </div>\n",
       "  </div>\n"
      ],
      "text/plain": [
       "                status  duration                           credit_history  \\\n",
       "0  no checking account         9  all credits at this bank paid back duly   \n",
       "1  no checking account        12  all credits at this bank paid back duly   \n",
       "2  no checking account        12  all credits at this bank paid back duly   \n",
       "3  no checking account        10  all credits at this bank paid back duly   \n",
       "4  no checking account         8  all credits at this bank paid back duly   \n",
       "\n",
       "  purpose  amount                     savings employment_duration  \\\n",
       "0  others    2799  unknown/no savings account    1 <= ... < 4 yrs   \n",
       "1  others    2122  unknown/no savings account    1 <= ... < 4 yrs   \n",
       "2  others    2171  unknown/no savings account    1 <= ... < 4 yrs   \n",
       "3  others    2241  unknown/no savings account              < 1 yr   \n",
       "4  others    3398  unknown/no savings account    4 <= ... < 7 yrs   \n",
       "\n",
       "  installment_rate other_debtors present_residence  ...  \\\n",
       "0   25 <= ... < 35          none  1 <= ... < 4 yrs  ...   \n",
       "1   20 <= ... < 25          none  1 <= ... < 4 yrs  ...   \n",
       "2             < 20          none          >= 7 yrs  ...   \n",
       "3            >= 35          none  4 <= ... < 7 yrs  ...   \n",
       "4            >= 35          none          >= 7 yrs  ...   \n",
       "\n",
       "  other_installment_plans   housing number_credits                        job  \\\n",
       "0                    none  for free            2-3  skilled employee/official   \n",
       "1                    none  for free            2-3       unskilled - resident   \n",
       "2                    bank      rent            2-3       unskilled - resident   \n",
       "3                    none  for free            2-3       unskilled - resident   \n",
       "4                    none      rent            2-3       unskilled - resident   \n",
       "\n",
       "  people_liable telephone foreign_worker target   sex personal_status  \n",
       "0     3 or more        no             no   good  male      non-single  \n",
       "1     3 or more        no            yes   good  male      non-single  \n",
       "2        0 to 2        no            yes   good  male      non-single  \n",
       "3     3 or more        no            yes   good  male      non-single  \n",
       "4        0 to 2        no            yes   good  male      non-single  \n",
       "\n",
       "[5 rows x 22 columns]"
      ]
     },
     "metadata": {},
     "output_type": "display_data"
    }
   ],
   "source": [
    "\n",
    "df = pd.read_csv(\"..\\data\\processed\\south_german_credit_clean.csv\")\n",
    "\n",
    "df.head()\n"
   ]
  },
  {
   "cell_type": "markdown",
   "metadata": {},
   "source": [
    "## Modelo"
   ]
  },
  {
   "cell_type": "markdown",
   "metadata": {},
   "source": [
    "Vamos a entrenar un *Árbol de Decisión* porque es fácil de entender y nos parece adecuado para un primer modelo.\n",
    "\n",
    "Por el desbalance de clases, conviene usar SMOTE y de paso podemos armar un pipeline para buscar buenos parámetros con Grid Search y validación cruzada."
   ]
  },
  {
   "cell_type": "code",
   "execution_count": null,
   "metadata": {},
   "outputs": [],
   "source": [
    "# Separar features y target\n",
    "X = df.drop(columns=[\"target\"])\n",
    "y = df[\"target\"].map({\"good\": 1, \"bad\": 0})  # good = positivo (1), bad = negativo (0)\n",
    "\n",
    "# Codificar variables categóricas\n",
    "X = pd.get_dummies(X, drop_first=True)\n",
    "\n",
    "# Dividir en train/test (30% test)\n",
    "X_train, X_test, y_train, y_test = train_test_split(\n",
    "    X, y, test_size=0.3, stratify=y, random_state=42\n",
    ")\n",
    "\n",
    "# Pipeline con SMOTE + Árbol + GridSearch\n",
    "pipeline = ImbPipeline([\n",
    "    (\"smote\", SMOTE(random_state=42)),\n",
    "    (\"scaler\", StandardScaler()),  # No estrictamente necesario para árboles, pero se incluye por buenas prácticas\n",
    "    (\"clf\", DecisionTreeClassifier(random_state=42))\n",
    "])\n",
    "\n",
    "# Definir los hiperparámetros a buscar\n",
    "param_grid = {\n",
    "    \"clf__max_depth\": [3, 5, 10, None],\n",
    "    \"clf__min_samples_split\": [2, 5, 10],\n",
    "    \"clf__min_samples_leaf\": [1, 2, 5],\n",
    "    \"clf__criterion\": [\"gini\", \"entropy\"]\n",
    "}\n",
    "\n",
    "# GridSearch con validación cruzada\n",
    "grid_search = GridSearchCV(\n",
    "    pipeline, param_grid, scoring=\"f1\", cv=5, n_jobs=-1\n",
    ")\n",
    "grid_search.fit(X_train, y_train)\n",
    "\n",
    "# Predicciones\n",
    "y_pred = grid_search.predict(X_test)\n",
    "\n",
    "# Métricas\n",
    "conf_matrix = confusion_matrix(y_test, y_pred)\n",
    "class_report = classification_report(y_test, y_pred, target_names=[\"bad (0)\", \"good (1)\"])\n",
    "best_params = grid_search.best_params_"
   ]
  },
  {
   "cell_type": "code",
   "execution_count": null,
   "metadata": {},
   "outputs": [],
   "source": [
    "# print de las métrcias\n",
    "print(\"=== Métricas del Modelo ===\\n\")\n",
    "print(\"Distribución de clases en el dataset original:\")\n",
    "print(class_distribution, \"\\n\")\n",
    "\n",
    "print(\"Mejores hiperparámetros encontrados por GridSearch:\")\n",
    "for k, v in best_params.items():\n",
    "    print(f\"  {k}: {v}\")\n",
    "print(\"\\nReporte de clasificación en test:\")\n",
    "print(class_report)\n",
    "\n",
    "# Plot de la matriz de confusión\n",
    "plt.figure(figsize=(5,4))\n",
    "sns.heatmap(conf_matrix, annot=True, fmt=\"d\", cmap=\"Blues\", cbar=False,\n",
    "            xticklabels=[\"Pred. Bad (0)\", \"Pred. Good (1)\"],\n",
    "            yticklabels=[\"True Bad (0)\", \"True Good (1)\"])\n",
    "plt.title(\"Matriz de Confusión\")\n",
    "plt.ylabel(\"Valor Real\")\n",
    "plt.xlabel(\"Predicción\")\n",
    "plt.show()"
   ]
  },
  {
   "cell_type": "markdown",
   "metadata": {},
   "source": [
    "## Análisis de errores y trade-off"
   ]
  },
  {
   "cell_type": "markdown",
   "metadata": {},
   "source": [
    "En el contexto bancario, donde el objetivo es **maximizar los préstamos otorgados a personas que efectivamente los van a pagar**, el **falso positivo** (darle un préstamo a alguien que no lo va a pagar) puede representar una **pérdida financiera** significativa.\n",
    "\n",
    "En cambio, un **falso negativo** (negarle un préstamo a alguien que sí lo iba a pagar) implica una oportunidad perdida, pero no un costo directo. Por eso, **los falsos positivos son el error más costoso** en este escenario.\n",
    "\n",
    "Esto debería reflejarse en el umbral de decisión y posiblemente en la elección de métricas (por ejemplo, priorizar un FPR bajo).\n"
   ]
  },
  {
   "cell_type": "markdown",
   "metadata": {},
   "source": [
    "# 03 - Evaluación de equidad del modelo inicial\n"
   ]
  },
  {
   "cell_type": "markdown",
   "metadata": {},
   "source": [
    "## Descripcion de las metricas de fairness vistas en clase para este contexto"
   ]
  },
  {
   "cell_type": "markdown",
   "metadata": {},
   "source": [
    "1)Statistical Parity:\n",
    "La proporcion de creditos aprobados de ambos grupos analizados debe ser estar dentro de nuestro criterio de comparacion.\n",
    "Independientemente de la proporcion de buenos pagadores en ambos grupos, la prediccion positiva deberia ser la misma.\n",
    "\n",
    "2)Equalized Odds:\n",
    "La tasa de TPR y FPR debe ser la misma en ambos grupos.Es decir que el modelo se equivoca y acierta en la misma proporcion para ambos grupos, con respecto a la aprobacion\n",
    "de creditos en ambos grupos.\n",
    "\n",
    "3)Equal Opportunity:\n",
    "El modelo se asegura de que en solo el caso de quienes si pagarian el prestamo, sea igual la proporcion de aprobados crediticiamente para los dos grupos.\n",
    "\n",
    "4)Predictive Parity:\n",
    "Se busca que la calidad de aprobaciones sea equitativa para ambos grupos."
   ]
  },
  {
   "cell_type": "markdown",
   "metadata": {},
   "source": [
    "## Analisis de fairness en el modelo anterior"
   ]
  },
  {
   "cell_type": "markdown",
   "metadata": {},
   "source": [
    " El umbral que nosotros proponemos para la diferencia del modulo entre las metricas de ambos grupos es el del 0.08 (8%)"
   ]
  },
  {
   "cell_type": "markdown",
   "metadata": {},
   "source": [
    "## Obtencion de las metricas"
   ]
  },
  {
   "cell_type": "code",
   "execution_count": null,
   "metadata": {},
   "outputs": [],
   "source": [
    "# Unimos X_test con y_test y y_pred\n",
    "df_eval = X_test.copy()\n",
    "df_eval[\"y_true\"] = y_test\n",
    "df_eval[\"y_pred\"] = y_pred\n",
    "\n",
    "\n",
    "# Filtrar por género\n",
    "male_df = df_eval[df_eval[\"sex_male\"] == True]\n",
    "female_df = df_eval[df_eval[\"sex_male\"] == False]\n",
    "\n",
    "def compute_metrics(df_group):\n",
    "    y_true = df_group[\"y_true\"]\n",
    "    y_pred = df_group[\"y_pred\"]\n",
    "    tn, fp, fn, tp = confusion_matrix(y_true, y_pred, labels=[0,1]).ravel()\n",
    "\n",
    "    # Fairness metrics\n",
    "    sp = np.mean(y_pred)                         # Statistical Parity: P(Ŷ=1)\n",
    "    pp = tp / (tp + fp) if (tp + fp) > 0 else 0  # Predictive Parity: P(Y=1|Ŷ=1)\n",
    "    tpr = tp / (tp + fn) if (tp + fn) > 0 else 0 # Equal Opportunity: P(Ŷ=1|Y=1)\n",
    "    fpr = fp / (fp + tn) if (fp + tn) > 0 else 0 # False Positive Rate: P(Ŷ=1|Y=0)\n",
    "\n",
    "    return sp, pp, tpr, fpr\n",
    "\n",
    "sp_male, pp_male, tpr_male, fpr_male = compute_metrics(male_df)\n",
    "sp_female, pp_female, tpr_female, fpr_female = compute_metrics(female_df)"
   ]
  },
  {
   "cell_type": "markdown",
   "metadata": {},
   "source": [
    "## Comparacion entre ambos grupos"
   ]
  },
  {
   "cell_type": "code",
   "execution_count": null,
   "metadata": {},
   "outputs": [
    {
     "name": "stdout",
     "output_type": "stream",
     "text": [
      "Métrica                   Masculino       Femenino        Diferencia (Fem - Masc)\n",
      "----------------------------------------------------------------------\n",
      "Statistical Parity        0.671           0.689           0.018          \n",
      "Predictive Parity         0.772           0.774           0.002          \n",
      "TPR (Equal Opportunity)   0.729           0.828           0.098          \n",
      "FPR                       0.527           0.438           -0.090         \n"
     ]
    }
   ],
   "source": [
    "print(\"{:<25} {:<15} {:<15} {:<15}\".format(\"Métrica\", \"Masculino\", \"Femenino\", \"Diferencia (Fem - Masc)\"))\n",
    "print(\"-\" * 70)\n",
    "print(\"{:<25} {:<15.3f} {:<15.3f} {:<15.3f}\".format(\"Statistical Parity\", sp_male, sp_female, sp_female - sp_male))\n",
    "print(\"{:<25} {:<15.3f} {:<15.3f} {:<15.3f}\".format(\"Predictive Parity\", pp_male, pp_female, pp_female - pp_male))\n",
    "print(\"{:<25} {:<15.3f} {:<15.3f} {:<15.3f}\".format(\"TPR (Equal Opportunity)\", tpr_male, tpr_female, tpr_female - tpr_male))\n",
    "print(\"{:<25} {:<15.3f} {:<15.3f} {:<15.3f}\".format(\"FPR\", fpr_male, fpr_female, fpr_female - fpr_male))"
   ]
  },
  {
   "cell_type": "markdown",
   "metadata": {},
   "source": [
    "## Conclusiones de los resultados de las metricas"
   ]
  },
  {
   "cell_type": "markdown",
   "metadata": {},
   "source": [
    "Cumple `Statistical Parity`, `Predictive Parity`, pero tiene una diferencia de `FPR` alta y no cumple `Equal Opportunity` (por ende tampoco `Equalized Odds`)"
   ]
  },
  {
   "cell_type": "markdown",
   "metadata": {},
   "source": [
    "## Eleccion del criterio de fairness"
   ]
  },
  {
   "cell_type": "markdown",
   "metadata": {},
   "source": [
    "Nosotros elegimos el criterio de `Equalized Odds`.\n",
    "\n",
    "Debido a que como personal del banco tenemos que encontrar un balance que no perjudique a los clientes pero tampoco a nuestra institucion.\n",
    "Asi que los clientes que si pagaran son aprobados en las mismas probabilidades entre hombres y mujeres.\n",
    "\n",
    "\n",
    "Mientras que los que no pagarian, son rechazados en la misma probabilidad para los dos grupos.\n",
    "El aumento del FPR en mujeres podria ser un riesgo para el banco por lo que esta medida, haria el modelo mas confiable desde una perspectiva bancaria."
   ]
  },
  {
   "cell_type": "markdown",
   "metadata": {},
   "source": [
    "# Reweighting"
   ]
  },
  {
   "cell_type": "markdown",
   "metadata": {},
   "source": [
    "Comparar p esperado y el observado"
   ]
  },
  {
   "cell_type": "code",
   "execution_count": null,
   "metadata": {},
   "outputs": [
    {
     "name": "stdout",
     "output_type": "stream",
     "text": [
      "P Esperado:  0.11699999999999999\n"
     ]
    }
   ],
   "source": [
    "print(f\"P Esperado: \",((X_train['sex_male']==False).sum()/len(X_train))*((pd.DataFrame(y_train)[\"target\"]==1).sum()/len(y_train)))"
   ]
  },
  {
   "cell_type": "code",
   "execution_count": null,
   "metadata": {},
   "outputs": [
    {
     "name": "stdout",
     "output_type": "stream",
     "text": [
      "P Observado:  0.11\n"
     ]
    }
   ],
   "source": [
    "acum=0\n",
    "for index in X_train.index.to_list():\n",
    "  if pd.DataFrame(y_train)[\"target\"].loc[index]==1 and X_train[\"sex_male\"].loc[index]==False:\n",
    "    acum+=1\n",
    "print(f\"P Observado: \",acum/len(X_train))"
   ]
  },
  {
   "cell_type": "markdown",
   "metadata": {},
   "source": [
    "Aplico el mitigador"
   ]
  },
  {
   "cell_type": "code",
   "execution_count": null,
   "metadata": {},
   "outputs": [],
   "source": [
    "mitigador_w = Reweighing()\n",
    "modelo_w=DecisionTreeClassifier(criterion=\"gini\", max_depth=10, min_samples_leaf=5, min_samples_split=2, random_state=42)\n",
    "pipeline_W = HolPipeline(steps=[(\"bm_preprocessing\", mitigador_w), (\"estimator\", modelo_w),])\n",
    "pipeline_W.fit(X_train,y_train, bm__group_a=X_train[\"sex_male\"], bm__group_b=~X_train[\"sex_male\"])\n",
    "y_pred_weight = pipeline_W.predict(X_test, bm__group_a=X_test[\"sex_male\"], bm__group_b=~X_test[\"sex_male\"])\n"
   ]
  },
  {
   "cell_type": "markdown",
   "metadata": {},
   "source": [
    "Calculo metricas"
   ]
  },
  {
   "cell_type": "code",
   "execution_count": null,
   "metadata": {},
   "outputs": [],
   "source": [
    "df_eval_w = X_test.copy()\n",
    "df_eval_w[\"y_true\"] = y_test\n",
    "df_eval_w[\"y_pred\"] = y_pred_weight\n",
    "\n",
    "\n",
    "# Filtrar por género\n",
    "male_df_w = df_eval_w[df_eval_w[\"sex_male\"] == True]\n",
    "female_df_w = df_eval_w[df_eval_w[\"sex_male\"] == False]"
   ]
  },
  {
   "cell_type": "code",
   "execution_count": null,
   "metadata": {},
   "outputs": [],
   "source": [
    "sp_male_w, pp_male_w, tpr_male_w, fpr_male_w = compute_metrics(male_df_w)\n",
    "sp_female_w, pp_female_w, tpr_female_w, fpr_female_w = compute_metrics(female_df_w)"
   ]
  },
  {
   "cell_type": "code",
   "execution_count": null,
   "metadata": {},
   "outputs": [
    {
     "name": "stdout",
     "output_type": "stream",
     "text": [
      "Métrica                   Masculino       Femenino        Diferencia (Fem - Masc)\n",
      "----------------------------------------------------------------------\n",
      "Statistical Parity        0.690           0.689           -0.001         \n",
      "Predictive Parity         0.807           0.645           -0.162         \n",
      "TPR (Equal Opportunity)   0.785           0.690           -0.095         \n",
      "FPR                       0.459           0.688           0.228          \n"
     ]
    }
   ],
   "source": [
    "print(\"{:<25} {:<15} {:<15} {:<15}\".format(\"Métrica\", \"Masculino\", \"Femenino\", \"Diferencia (Fem - Masc)\"))\n",
    "print(\"-\" * 70)\n",
    "print(\"{:<25} {:<15.3f} {:<15.3f} {:<15.3f}\".format(\"Statistical Parity\", sp_male_w, sp_female_w, sp_female_w - sp_male_w))\n",
    "print(\"{:<25} {:<15.3f} {:<15.3f} {:<15.3f}\".format(\"Predictive Parity\", pp_male_w, pp_female_w, pp_female_w - pp_male_w))\n",
    "print(\"{:<25} {:<15.3f} {:<15.3f} {:<15.3f}\".format(\"TPR (Equal Opportunity)\", tpr_male_w, tpr_female_w, tpr_female_w - tpr_male_w))\n",
    "print(\"{:<25} {:<15.3f} {:<15.3f} {:<15.3f}\".format(\"FPR\", fpr_male_w, fpr_female_w, fpr_female_w - fpr_male_w))"
   ]
  },
  {
   "cell_type": "markdown",
   "metadata": {},
   "source": [
    "Mejoro poco"
   ]
  },
  {
   "cell_type": "markdown",
   "metadata": {},
   "source": [
    "# Correlation remover"
   ]
  },
  {
   "cell_type": "markdown",
   "metadata": {},
   "source": [
    "Buscamos correlaciones"
   ]
  },
  {
   "cell_type": "code",
   "execution_count": null,
   "metadata": {},
   "outputs": [
    {
     "name": "stderr",
     "output_type": "stream",
     "text": [
      "<ipython-input-147-0e359cd2f05b>:2: SettingWithCopyWarning: \n",
      "A value is trying to be set on a copy of a slice from a DataFrame.\n",
      "Try using .loc[row_indexer,col_indexer] = value instead\n",
      "\n",
      "See the caveats in the documentation: https://pandas.pydata.org/pandas-docs/stable/user_guide/indexing.html#returning-a-view-versus-a-copy\n",
      "  X_num[\"sex\"] = df[\"sex\"].map({\"male\": 1, \"female\": 0})\n"
     ]
    },
    {
     "data": {
      "image/png": "[encoded data removed]",
      "text/plain": [
       "<Figure size 640x480 with 2 Axes>"
      ]
     },
     "metadata": {},
     "output_type": "display_data"
    }
   ],
   "source": [
    "X_num=df[[\"age\",\"duration\",\"amount\",\"sex\"]]\n",
    "X_num[\"sex\"] = df[\"sex\"].map({\"male\": 1, \"female\": 0})\n",
    "\n",
    "corr = X_num.corr()\n",
    "sns.heatmap(corr, annot=True, cmap='coolwarm')\n",
    "plt.title(\"Matriz de Correlación\")\n",
    "plt.show()\n"
   ]
  },
  {
   "cell_type": "markdown",
   "metadata": {},
   "source": [
    "Hay"
   ]
  },
  {
   "cell_type": "code",
   "execution_count": null,
   "metadata": {},
   "outputs": [],
   "source": [
    "mitigador_cr = CorrelationRemover()\n",
    "modelo_cr=DecisionTreeClassifier(criterion=\"gini\", max_depth=10, min_samples_leaf=5, min_samples_split=2, random_state=42)\n",
    "pipeline_cr = HolPipeline(steps=[(\"bm_preprocessing\", mitigador_cr), (\"estimator\", modelo_cr),])\n",
    "pipeline_cr.fit(X_train[[\"age\",\"duration\",\"amount\"]],y_train, bm__group_a=X_train[\"sex_male\"], bm__group_b=~X_train[\"sex_male\"])\n",
    "y_pred_cr = pipeline_cr.predict(X_test[[\"age\",\"duration\",\"amount\"]], bm__group_a=X_test[\"sex_male\"], bm__group_b=~X_test[\"sex_male\"])"
   ]
  },
  {
   "cell_type": "code",
   "execution_count": null,
   "metadata": {},
   "outputs": [],
   "source": [
    "df_eval_cr = X_test.copy()\n",
    "df_eval_cr[\"y_true\"] = y_test\n",
    "df_eval_cr[\"y_pred\"] = y_pred_cr\n",
    "\n",
    "\n",
    "# Filtrar por género\n",
    "male_df_cr = df_eval_cr[df_eval_cr[\"sex_male\"] == True]\n",
    "female_df_cr = df_eval_cr[df_eval_cr[\"sex_male\"] == False]"
   ]
  },
  {
   "cell_type": "code",
   "execution_count": null,
   "metadata": {},
   "outputs": [],
   "source": [
    "sp_male_cr, pp_male_cr, tpr_male_cr, fpr_male_cr = compute_metrics(male_df_cr)\n",
    "sp_female_cr, pp_female_cr, tpr_female_cr, fpr_female_cr = compute_metrics(female_df_cr)"
   ]
  },
  {
   "cell_type": "code",
   "execution_count": null,
   "metadata": {},
   "outputs": [
    {
     "name": "stdout",
     "output_type": "stream",
     "text": [
      "Métrica                   Masculino       Femenino        Diferencia (Fem - Masc)\n",
      "----------------------------------------------------------------------\n",
      "Statistical Parity        0.733           0.733           0.000          \n",
      "Predictive Parity         0.770           0.636           -0.134         \n",
      "TPR (Equal Opportunity)   0.796           0.724           -0.071         \n",
      "FPR                       0.581           0.750           0.169          \n"
     ]
    }
   ],
   "source": [
    "print(\"{:<25} {:<15} {:<15} {:<15}\".format(\"Métrica\", \"Masculino\", \"Femenino\", \"Diferencia (Fem - Masc)\"))\n",
    "print(\"-\" * 70)\n",
    "print(\"{:<25} {:<15.3f} {:<15.3f} {:<15.3f}\".format(\"Statistical Parity\", sp_male_cr, sp_female_cr, sp_female_cr - sp_male_cr))\n",
    "print(\"{:<25} {:<15.3f} {:<15.3f} {:<15.3f}\".format(\"Predictive Parity\", pp_male_cr, pp_female_cr, pp_female_cr - pp_male_cr))\n",
    "print(\"{:<25} {:<15.3f} {:<15.3f} {:<15.3f}\".format(\"TPR (Equal Opportunity)\", tpr_male_cr, tpr_female_cr, tpr_female_cr - tpr_male_cr))\n",
    "print(\"{:<25} {:<15.3f} {:<15.3f} {:<15.3f}\".format(\"FPR\", fpr_male_cr, fpr_female_cr, fpr_female_cr - fpr_male_cr))"
   ]
  }
 ],
 "metadata": {
  "kernelspec": {
   "display_name": "Python 3",
   "language": "python",
   "name": "python3"
  },
  "language_info": {
   "codemirror_mode": {
    "name": "ipython",
    "version": 3
   },
   "file_extension": ".py",
   "mimetype": "text/x-python",
   "name": "python",
   "nbconvert_exporter": "python",
   "pygments_lexer": "ipython3",
   "version": "3.12.2"
  }
 },
 "nbformat": 4,
 "nbformat_minor": 2
}
