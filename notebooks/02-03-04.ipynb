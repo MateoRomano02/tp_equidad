{
 "cells": [
  {
   "cell_type": "markdown",
   "id": "66e33fe2",
   "metadata": {
    "id": "66e33fe2"
   },
   "source": [
    "# 02 - Modelo Inicial\n",
    "Repositorio: [github.com/MateoRomano02/tp_equidad](https://github.com/MateoRomano02/tp_equidad)\n",
    "\n",
    "\n",
    "Este notebook corresponde al punto N°2, N°3 y N°4 del TP"
   ]
  },
  {
   "cell_type": "markdown",
   "id": "0490183a",
   "metadata": {
    "id": "0490183a"
   },
   "source": [
    "## Objetivo\n",
    "Entrenar un modelo de clasificación sobre el dataset *German Credit Data* y evaluar su rendimiento con métricas como accuracy, precision, recall y F1-score. Además, se analizará cuál error es más costoso para el banco."
   ]
  },
  {
   "cell_type": "code",
   "execution_count": 1,
   "id": "615d3222",
   "metadata": {
    "executionInfo": {
     "elapsed": 16,
     "status": "ok",
     "timestamp": 1748538064213,
     "user": {
      "displayName": "Valentino Bustos Sak",
      "userId": "06034234704710139403"
     },
     "user_tz": 180
    },
    "id": "615d3222"
   },
   "outputs": [],
   "source": [
    "import pandas as pd\n",
    "import numpy as np\n",
    "import seaborn as sns\n",
    "import matplotlib.pyplot as plt\n",
    "from sklearn.model_selection import train_test_split, GridSearchCV\n",
    "from sklearn.tree import DecisionTreeClassifier\n",
    "from sklearn.metrics import classification_report, confusion_matrix\n",
    "from sklearn.preprocessing import StandardScaler\n",
    "from imblearn.over_sampling import SMOTE\n",
    "from imblearn.pipeline import Pipeline as ImbPipeline\n",
    "from holisticai.bias.mitigation import Reweighing\n",
    "from holisticai.pipeline import Pipeline as HolPipeline\n",
    "from holisticai.bias.mitigation import CorrelationRemover\n",
    "from holisticai.bias.mitigation import PrejudiceRemover\n",
    "from holisticai.bias.metrics import classification_bias_metrics"
   ]
  },
  {
   "cell_type": "markdown",
   "id": "35d4a685",
   "metadata": {
    "id": "35d4a685"
   },
   "source": [
    "## Carga de datos"
   ]
  },
  {
   "cell_type": "code",
   "execution_count": 2,
   "id": "e542bd10",
   "metadata": {
    "colab": {
     "base_uri": "https://localhost:8080/",
     "height": 429
    },
    "executionInfo": {
     "elapsed": 63,
     "status": "ok",
     "timestamp": 1748528336562,
     "user": {
      "displayName": "Valentino Bustos Sak",
      "userId": "06034234704710139403"
     },
     "user_tz": 180
    },
    "id": "e542bd10",
    "outputId": "8442e3ec-6ff0-4ee1-c9ca-a9058cf11166"
   },
   "outputs": [
    {
     "data": {
      "text/html": [
       "<div>\n",
       "<style scoped>\n",
       "    .dataframe tbody tr th:only-of-type {\n",
       "        vertical-align: middle;\n",
       "    }\n",
       "\n",
       "    .dataframe tbody tr th {\n",
       "        vertical-align: top;\n",
       "    }\n",
       "\n",
       "    .dataframe thead th {\n",
       "        text-align: right;\n",
       "    }\n",
       "</style>\n",
       "<table border=\"1\" class=\"dataframe\">\n",
       "  <thead>\n",
       "    <tr style=\"text-align: right;\">\n",
       "      <th></th>\n",
       "      <th>status</th>\n",
       "      <th>duration</th>\n",
       "      <th>credit_history</th>\n",
       "      <th>purpose</th>\n",
       "      <th>amount</th>\n",
       "      <th>savings</th>\n",
       "      <th>employment_duration</th>\n",
       "      <th>installment_rate</th>\n",
       "      <th>other_debtors</th>\n",
       "      <th>present_residence</th>\n",
       "      <th>...</th>\n",
       "      <th>other_installment_plans</th>\n",
       "      <th>housing</th>\n",
       "      <th>number_credits</th>\n",
       "      <th>job</th>\n",
       "      <th>people_liable</th>\n",
       "      <th>telephone</th>\n",
       "      <th>foreign_worker</th>\n",
       "      <th>target</th>\n",
       "      <th>sex</th>\n",
       "      <th>personal_status</th>\n",
       "    </tr>\n",
       "  </thead>\n",
       "  <tbody>\n",
       "    <tr>\n",
       "      <th>0</th>\n",
       "      <td>no checking account</td>\n",
       "      <td>9</td>\n",
       "      <td>all credits at this bank paid back duly</td>\n",
       "      <td>others</td>\n",
       "      <td>2799</td>\n",
       "      <td>unknown/no savings account</td>\n",
       "      <td>1 &lt;= ... &lt; 4 yrs</td>\n",
       "      <td>25 &lt;= ... &lt; 35</td>\n",
       "      <td>none</td>\n",
       "      <td>1 &lt;= ... &lt; 4 yrs</td>\n",
       "      <td>...</td>\n",
       "      <td>none</td>\n",
       "      <td>for free</td>\n",
       "      <td>2-3</td>\n",
       "      <td>skilled employee/official</td>\n",
       "      <td>3 or more</td>\n",
       "      <td>no</td>\n",
       "      <td>no</td>\n",
       "      <td>good</td>\n",
       "      <td>male</td>\n",
       "      <td>non-single</td>\n",
       "    </tr>\n",
       "    <tr>\n",
       "      <th>1</th>\n",
       "      <td>no checking account</td>\n",
       "      <td>12</td>\n",
       "      <td>all credits at this bank paid back duly</td>\n",
       "      <td>others</td>\n",
       "      <td>2122</td>\n",
       "      <td>unknown/no savings account</td>\n",
       "      <td>1 &lt;= ... &lt; 4 yrs</td>\n",
       "      <td>20 &lt;= ... &lt; 25</td>\n",
       "      <td>none</td>\n",
       "      <td>1 &lt;= ... &lt; 4 yrs</td>\n",
       "      <td>...</td>\n",
       "      <td>none</td>\n",
       "      <td>for free</td>\n",
       "      <td>2-3</td>\n",
       "      <td>unskilled - resident</td>\n",
       "      <td>3 or more</td>\n",
       "      <td>no</td>\n",
       "      <td>yes</td>\n",
       "      <td>good</td>\n",
       "      <td>male</td>\n",
       "      <td>non-single</td>\n",
       "    </tr>\n",
       "    <tr>\n",
       "      <th>2</th>\n",
       "      <td>no checking account</td>\n",
       "      <td>12</td>\n",
       "      <td>all credits at this bank paid back duly</td>\n",
       "      <td>others</td>\n",
       "      <td>2171</td>\n",
       "      <td>unknown/no savings account</td>\n",
       "      <td>1 &lt;= ... &lt; 4 yrs</td>\n",
       "      <td>&lt; 20</td>\n",
       "      <td>none</td>\n",
       "      <td>&gt;= 7 yrs</td>\n",
       "      <td>...</td>\n",
       "      <td>bank</td>\n",
       "      <td>rent</td>\n",
       "      <td>2-3</td>\n",
       "      <td>unskilled - resident</td>\n",
       "      <td>0 to 2</td>\n",
       "      <td>no</td>\n",
       "      <td>yes</td>\n",
       "      <td>good</td>\n",
       "      <td>male</td>\n",
       "      <td>non-single</td>\n",
       "    </tr>\n",
       "    <tr>\n",
       "      <th>3</th>\n",
       "      <td>no checking account</td>\n",
       "      <td>10</td>\n",
       "      <td>all credits at this bank paid back duly</td>\n",
       "      <td>others</td>\n",
       "      <td>2241</td>\n",
       "      <td>unknown/no savings account</td>\n",
       "      <td>&lt; 1 yr</td>\n",
       "      <td>&gt;= 35</td>\n",
       "      <td>none</td>\n",
       "      <td>4 &lt;= ... &lt; 7 yrs</td>\n",
       "      <td>...</td>\n",
       "      <td>none</td>\n",
       "      <td>for free</td>\n",
       "      <td>2-3</td>\n",
       "      <td>unskilled - resident</td>\n",
       "      <td>3 or more</td>\n",
       "      <td>no</td>\n",
       "      <td>yes</td>\n",
       "      <td>good</td>\n",
       "      <td>male</td>\n",
       "      <td>non-single</td>\n",
       "    </tr>\n",
       "    <tr>\n",
       "      <th>4</th>\n",
       "      <td>no checking account</td>\n",
       "      <td>8</td>\n",
       "      <td>all credits at this bank paid back duly</td>\n",
       "      <td>others</td>\n",
       "      <td>3398</td>\n",
       "      <td>unknown/no savings account</td>\n",
       "      <td>4 &lt;= ... &lt; 7 yrs</td>\n",
       "      <td>&gt;= 35</td>\n",
       "      <td>none</td>\n",
       "      <td>&gt;= 7 yrs</td>\n",
       "      <td>...</td>\n",
       "      <td>none</td>\n",
       "      <td>rent</td>\n",
       "      <td>2-3</td>\n",
       "      <td>unskilled - resident</td>\n",
       "      <td>0 to 2</td>\n",
       "      <td>no</td>\n",
       "      <td>yes</td>\n",
       "      <td>good</td>\n",
       "      <td>male</td>\n",
       "      <td>non-single</td>\n",
       "    </tr>\n",
       "  </tbody>\n",
       "</table>\n",
       "<p>5 rows × 22 columns</p>\n",
       "</div>"
      ],
      "text/plain": [
       "                status  duration                           credit_history  \\\n",
       "0  no checking account         9  all credits at this bank paid back duly   \n",
       "1  no checking account        12  all credits at this bank paid back duly   \n",
       "2  no checking account        12  all credits at this bank paid back duly   \n",
       "3  no checking account        10  all credits at this bank paid back duly   \n",
       "4  no checking account         8  all credits at this bank paid back duly   \n",
       "\n",
       "  purpose  amount                     savings employment_duration  \\\n",
       "0  others    2799  unknown/no savings account    1 <= ... < 4 yrs   \n",
       "1  others    2122  unknown/no savings account    1 <= ... < 4 yrs   \n",
       "2  others    2171  unknown/no savings account    1 <= ... < 4 yrs   \n",
       "3  others    2241  unknown/no savings account              < 1 yr   \n",
       "4  others    3398  unknown/no savings account    4 <= ... < 7 yrs   \n",
       "\n",
       "  installment_rate other_debtors present_residence  ...  \\\n",
       "0   25 <= ... < 35          none  1 <= ... < 4 yrs  ...   \n",
       "1   20 <= ... < 25          none  1 <= ... < 4 yrs  ...   \n",
       "2             < 20          none          >= 7 yrs  ...   \n",
       "3            >= 35          none  4 <= ... < 7 yrs  ...   \n",
       "4            >= 35          none          >= 7 yrs  ...   \n",
       "\n",
       "  other_installment_plans   housing number_credits                        job  \\\n",
       "0                    none  for free            2-3  skilled employee/official   \n",
       "1                    none  for free            2-3       unskilled - resident   \n",
       "2                    bank      rent            2-3       unskilled - resident   \n",
       "3                    none  for free            2-3       unskilled - resident   \n",
       "4                    none      rent            2-3       unskilled - resident   \n",
       "\n",
       "  people_liable telephone foreign_worker target   sex personal_status  \n",
       "0     3 or more        no             no   good  male      non-single  \n",
       "1     3 or more        no            yes   good  male      non-single  \n",
       "2        0 to 2        no            yes   good  male      non-single  \n",
       "3     3 or more        no            yes   good  male      non-single  \n",
       "4        0 to 2        no            yes   good  male      non-single  \n",
       "\n",
       "[5 rows x 22 columns]"
      ]
     },
     "execution_count": 2,
     "metadata": {},
     "output_type": "execute_result"
    }
   ],
   "source": [
    "\n",
    "df = pd.read_csv(\"..\\data\\processed\\south_german_credit_clean.csv\")\n",
    "\n",
    "df.head()\n"
   ]
  },
  {
   "cell_type": "markdown",
   "id": "4a73747b-3e8b-4895-997d-1dc2b324bdd3",
   "metadata": {
    "id": "4a73747b-3e8b-4895-997d-1dc2b324bdd3"
   },
   "source": [
    "## Modelo"
   ]
  },
  {
   "cell_type": "markdown",
   "id": "a1232ee6",
   "metadata": {
    "id": "a1232ee6"
   },
   "source": [
    "Vamos a entrenar un *Árbol de Decisión* porque es fácil de entender y nos parece adecuado para un primer modelo.\n",
    "\n",
    "Por el desbalance de clases, conviene usar SMOTE y de paso podemos armar un pipeline para buscar buenos parámetros con Grid Search y validación cruzada."
   ]
  },
  {
   "cell_type": "code",
   "execution_count": 3,
   "id": "f7588ffd",
   "metadata": {
    "executionInfo": {
     "elapsed": 14724,
     "status": "ok",
     "timestamp": 1748538085137,
     "user": {
      "displayName": "Valentino Bustos Sak",
      "userId": "06034234704710139403"
     },
     "user_tz": 180
    },
    "id": "f7588ffd"
   },
   "outputs": [],
   "source": [
    "# Separar features y target\n",
    "X = df.drop(columns=[\"target\"])\n",
    "y = df[\"target\"].map({\"good\": 1, \"bad\": 0})  # good = positivo (1), bad = negativo (0)\n",
    "\n",
    "# Codificar variables categóricas\n",
    "X = pd.get_dummies(X, drop_first=True)\n",
    "\n",
    "# Dividir en train/test (30% test)\n",
    "X_train, X_test, y_train, y_test = train_test_split(\n",
    "    X, y, test_size=0.3, stratify=y, random_state=42\n",
    ")\n",
    "\n",
    "# Pipeline con SMOTE + Árbol + GridSearch\n",
    "pipeline = ImbPipeline([\n",
    "    (\"smote\", SMOTE(random_state=42)),\n",
    "    (\"scaler\", StandardScaler()),  # No es estrictamente necesario para árboles, pero se incluye por buenas prácticas\n",
    "    (\"clf\", DecisionTreeClassifier(random_state=42))\n",
    "])\n",
    "\n",
    "# Definir los hiperparámetros a buscar\n",
    "param_grid = {\n",
    "    \"clf__max_depth\": [3, 5, 10, None],\n",
    "    \"clf__min_samples_split\": [2, 5, 10],\n",
    "    \"clf__min_samples_leaf\": [1, 2, 5],\n",
    "    \"clf__criterion\": [\"gini\", \"entropy\"]\n",
    "}\n",
    "\n",
    "# GridSearch con validación cruzada\n",
    "grid_search = GridSearchCV(\n",
    "    pipeline, param_grid, scoring=\"f1\", cv=5, n_jobs=-1\n",
    ")\n",
    "grid_search.fit(X_train, y_train)\n",
    "\n",
    "# Predicciones\n",
    "y_pred = grid_search.predict(X_test)\n",
    "\n",
    "# Métricas\n",
    "conf_matrix = confusion_matrix(y_test, y_pred)\n",
    "class_report = classification_report(y_test, y_pred, target_names=[\"bad (0)\", \"good (1)\"])\n",
    "best_params = grid_search.best_params_"
   ]
  },
  {
   "cell_type": "code",
   "execution_count": 4,
   "id": "f68098d1",
   "metadata": {
    "id": "f68098d1"
   },
   "outputs": [
    {
     "name": "stdout",
     "output_type": "stream",
     "text": [
      "Mejores hiperparámetros encontrados por GridSearch:\n",
      "  clf__criterion: gini\n",
      "  clf__max_depth: 10\n",
      "  clf__min_samples_leaf: 5\n",
      "  clf__min_samples_split: 2\n",
      "\n",
      "Reporte de clasificación en test:\n",
      "              precision    recall  f1-score   support\n",
      "\n",
      "     bad (0)       0.45      0.49      0.47        90\n",
      "    good (1)       0.77      0.74      0.76       210\n",
      "\n",
      "    accuracy                           0.67       300\n",
      "   macro avg       0.61      0.62      0.61       300\n",
      "weighted avg       0.68      0.67      0.67       300\n",
      "\n"
     ]
    },
    {
     "data": {
      "image/png": "[encoded data removed]",
      "text/plain": [
       "<Figure size 500x400 with 1 Axes>"
      ]
     },
     "metadata": {},
     "output_type": "display_data"
    }
   ],
   "source": [
    "# print de las métrcias\n",
    "\n",
    "print(\"Mejores hiperparámetros encontrados por GridSearch:\")\n",
    "for k, v in best_params.items():\n",
    "    print(f\"  {k}: {v}\")\n",
    "print(\"\\nReporte de clasificación en test:\")\n",
    "print(class_report)\n",
    "\n",
    "# Plot de la matriz de confusión\n",
    "plt.figure(figsize=(5,4))\n",
    "sns.heatmap(conf_matrix, annot=True, fmt=\"d\", cmap=\"Blues\", cbar=False,\n",
    "            xticklabels=[\"Pred. Bad (0)\", \"Pred. Good (1)\"],\n",
    "            yticklabels=[\"True Bad (0)\", \"True Good (1)\"])\n",
    "plt.title(\"Matriz de Confusión\")\n",
    "plt.ylabel(\"Valor Real\")\n",
    "plt.xlabel(\"Predicción\")\n",
    "plt.show()"
   ]
  },
  {
   "cell_type": "markdown",
   "id": "65f54336",
   "metadata": {
    "id": "65f54336"
   },
   "source": [
    "## Análisis de errores y trade-off"
   ]
  },
  {
   "cell_type": "markdown",
   "id": "697a1853",
   "metadata": {
    "id": "697a1853"
   },
   "source": [
    "En el contexto bancario, donde el objetivo es **maximizar los préstamos otorgados a personas que efectivamente los van a pagar**, el **falso positivo** (darle un préstamo a alguien que no lo va a pagar) puede representar una **pérdida financiera** significativa.\n",
    "\n",
    "En cambio, un **falso negativo** (negarle un préstamo a alguien que sí lo iba a pagar) implica una oportunidad perdida, pero no un costo directo. Por eso, **los falsos positivos son el error más costoso** en este escenario.\n",
    "\n",
    "Esto debería reflejarse en el umbral de decisión y posiblemente en la elección de métricas (por ejemplo, priorizar un FPR bajo).\n"
   ]
  },
  {
   "cell_type": "markdown",
   "id": "bf54cc67-a3e5-4511-a96f-8362dbec7719",
   "metadata": {
    "id": "bf54cc67-a3e5-4511-a96f-8362dbec7719"
   },
   "source": [
    "# 03 - Evaluación de equidad del modelo inicial\n"
   ]
  },
  {
   "cell_type": "markdown",
   "id": "e0c4d808-53d2-4122-b315-3e2846035ffa",
   "metadata": {
    "id": "e0c4d808-53d2-4122-b315-3e2846035ffa"
   },
   "source": [
    "## Descripcion de las metricas de fairness vistas en clase para este contexto"
   ]
  },
  {
   "cell_type": "markdown",
   "id": "6caa949a-b2b7-4a5d-972d-9c9e464521ed",
   "metadata": {
    "id": "6caa949a-b2b7-4a5d-972d-9c9e464521ed"
   },
   "source": [
    "1)Statistical Parity:\n",
    "La proporcion de creditos aprobados de ambos grupos analizados debe ser estar dentro de nuestro criterio de comparacion.\n",
    "Independientemente de la proporcion de buenos pagadores en ambos grupos, la prediccion positiva deberia ser la misma.\n",
    "\n",
    "2)Equalized Odds:\n",
    "La tasa de TPR y FPR debe ser la misma en ambos grupos.Es decir que el modelo se equivoca y acierta en la misma proporcion para ambos grupos, con respecto a la aprobacion\n",
    "de creditos en ambos grupos.\n",
    "\n",
    "3)Equal Opportunity:\n",
    "El modelo se asegura de que en solo el caso de quienes si pagarian el prestamo, sea igual la proporcion de aprobados crediticiamente para los dos grupos.\n",
    "\n",
    "4)Predictive Parity:\n",
    "Se busca que la calidad de aprobaciones sea equitativa para ambos grupos."
   ]
  },
  {
   "cell_type": "markdown",
   "id": "58ad79a9-5ac6-4099-a4c2-3805276fc7a4",
   "metadata": {
    "id": "58ad79a9-5ac6-4099-a4c2-3805276fc7a4"
   },
   "source": [
    "## Analisis de fairness en el modelo anterior"
   ]
  },
  {
   "cell_type": "markdown",
   "id": "b9cb101b-d2d0-4a51-8b0e-3bbb6a6973a3",
   "metadata": {
    "id": "b9cb101b-d2d0-4a51-8b0e-3bbb6a6973a3"
   },
   "source": [
    " El umbral que nosotros proponemos para la diferencia del modulo entre las metricas de ambos grupos es el del 0.08 (8%)"
   ]
  },
  {
   "cell_type": "markdown",
   "id": "303d67ed-ee7e-4033-aa04-b58ff4088427",
   "metadata": {
    "id": "303d67ed-ee7e-4033-aa04-b58ff4088427"
   },
   "source": [
    "## Obtencion de las metricas"
   ]
  },
  {
   "cell_type": "markdown",
   "id": "fefa20ca",
   "metadata": {},
   "source": [
    "### con Holistic Ai:"
   ]
  },
  {
   "cell_type": "code",
   "execution_count": 18,
   "id": "8d990723",
   "metadata": {},
   "outputs": [
    {
     "name": "stdout",
     "output_type": "stream",
     "text": [
      "Métricas de fairness (modelo base):\n",
      "                                       Value  Reference\n",
      "Metric                                                 \n",
      "Statistical Parity                 -0.018301          0\n",
      "Disparate Impact                    0.973435          1\n",
      "Four Fifths Rule                    0.973435          1\n",
      "Cohen D                            -0.039023          0\n",
      "2SD Rule                           -0.241332          0\n",
      "Equality of Opportunity Difference -0.098304          0\n",
      "False Positive Rate Difference      0.089527          0\n",
      "Average Odds Difference            -0.004389          0\n",
      "Accuracy Difference                -0.078431          0\n"
     ]
    }
   ],
   "source": [
    "from holisticai.bias.metrics import classification_bias_metrics\n",
    "\n",
    "df_eval = X_test.copy()\n",
    "df_eval[\"y_true\"] = y_test\n",
    "df_eval[\"y_pred\"] = y_pred\n",
    "# Para el modelo base (sin mitigación)\n",
    "metrics_base = classification_bias_metrics(\n",
    "    df_eval[\"sex_male\"] == True,\n",
    "    df_eval[\"sex_male\"] == False,\n",
    "    y_pred,\n",
    "    y_test,\n",
    "    metric_type=\"both\"\n",
    ")\n",
    "\n",
    "print(\"Métricas de fairness (modelo base):\")\n",
    "print(metrics_base)"
   ]
  },
  {
   "cell_type": "markdown",
   "id": "a37c64ee",
   "metadata": {},
   "source": [
    "### A mano para practicar:"
   ]
  },
  {
   "cell_type": "code",
   "execution_count": 6,
   "id": "3a8a24a4",
   "metadata": {
    "executionInfo": {
     "elapsed": 13,
     "status": "ok",
     "timestamp": 1748538096486,
     "user": {
      "displayName": "Valentino Bustos Sak",
      "userId": "06034234704710139403"
     },
     "user_tz": 180
    },
    "id": "3a8a24a4"
   },
   "outputs": [],
   "source": [
    "# Filtrar por género\n",
    "male_df = df_eval[df_eval[\"sex_male\"] == True]\n",
    "female_df = df_eval[df_eval[\"sex_male\"] == False]\n",
    "\n",
    "def compute_metrics(df_group):\n",
    "    y_true = df_group[\"y_true\"]\n",
    "    y_pred = df_group[\"y_pred\"]\n",
    "    tn, fp, fn, tp = confusion_matrix(y_true, y_pred, labels=[0,1]).ravel()\n",
    "\n",
    "    # Fairness metrics\n",
    "    sp = np.mean(y_pred)                         # Statistical Parity: P(Ŷ=1)\n",
    "    pp = tp / (tp + fp) if (tp + fp) > 0 else 0  # Predictive Parity: P(Y=1|Ŷ=1)\n",
    "    tpr = tp / (tp + fn) if (tp + fn) > 0 else 0 # Equal Opportunity: P(Ŷ=1|Y=1)\n",
    "    fpr = fp / (fp + tn) if (fp + tn) > 0 else 0 # False Positive Rate: P(Ŷ=1|Y=0)\n",
    "\n",
    "    return sp, pp, tpr, fpr\n",
    "\n",
    "sp_male, pp_male, tpr_male, fpr_male = compute_metrics(male_df)\n",
    "sp_female, pp_female, tpr_female, fpr_female = compute_metrics(female_df)"
   ]
  },
  {
   "cell_type": "markdown",
   "id": "474cd18f-6799-4329-8069-4874b8e757ac",
   "metadata": {
    "id": "474cd18f-6799-4329-8069-4874b8e757ac"
   },
   "source": [
    "#### Comparacion entre ambos grupos"
   ]
  },
  {
   "cell_type": "code",
   "execution_count": 7,
   "id": "0d9a8128",
   "metadata": {
    "colab": {
     "base_uri": "https://localhost:8080/"
    },
    "executionInfo": {
     "elapsed": 16,
     "status": "ok",
     "timestamp": 1748538099963,
     "user": {
      "displayName": "Valentino Bustos Sak",
      "userId": "06034234704710139403"
     },
     "user_tz": 180
    },
    "id": "0d9a8128",
    "outputId": "02a1c9f6-bd4f-41c3-98d2-3f7d889cd135"
   },
   "outputs": [
    {
     "name": "stdout",
     "output_type": "stream",
     "text": [
      "Métrica                   Masculino       Femenino        Diferencia (Fem - Masc)\n",
      "----------------------------------------------------------------------\n",
      "Statistical Parity        0.671           0.689           0.018          \n",
      "Predictive Parity         0.772           0.774           0.002          \n",
      "TPR (Equal Opportunity)   0.729           0.828           0.098          \n",
      "FPR                       0.527           0.438           -0.090         \n"
     ]
    }
   ],
   "source": [
    "print(\"{:<25} {:<15} {:<15} {:<15}\".format(\"Métrica\", \"Masculino\", \"Femenino\", \"Diferencia (Fem - Masc)\"))\n",
    "print(\"-\" * 70)\n",
    "print(\"{:<25} {:<15.3f} {:<15.3f} {:<15.3f}\".format(\"Statistical Parity\", sp_male, sp_female, sp_female - sp_male))\n",
    "print(\"{:<25} {:<15.3f} {:<15.3f} {:<15.3f}\".format(\"Predictive Parity\", pp_male, pp_female, pp_female - pp_male))\n",
    "print(\"{:<25} {:<15.3f} {:<15.3f} {:<15.3f}\".format(\"TPR (Equal Opportunity)\", tpr_male, tpr_female, tpr_female - tpr_male))\n",
    "print(\"{:<25} {:<15.3f} {:<15.3f} {:<15.3f}\".format(\"FPR\", fpr_male, fpr_female, fpr_female - fpr_male))"
   ]
  },
  {
   "cell_type": "markdown",
   "id": "8b781a0a-57b6-49d3-abda-ce936eefb4b3",
   "metadata": {
    "id": "8b781a0a-57b6-49d3-abda-ce936eefb4b3"
   },
   "source": [
    "## Conclusiones de los resultados de las metricas"
   ]
  },
  {
   "cell_type": "markdown",
   "id": "c6340ade-575f-4644-8b3d-1dbccad4ccee",
   "metadata": {
    "id": "c6340ade-575f-4644-8b3d-1dbccad4ccee"
   },
   "source": [
    "Cumple `Statistical Parity`, `Predictive Parity`, pero tiene una diferencia de `FPR` alta y no cumple `Equal Opportunity` (por ende tampoco `Equalized Odds`)"
   ]
  },
  {
   "cell_type": "markdown",
   "id": "b92a9cad-2ff9-4acd-97f2-6dec2d8acf84",
   "metadata": {
    "id": "b92a9cad-2ff9-4acd-97f2-6dec2d8acf84"
   },
   "source": [
    "## Elección del criterio de fairness"
   ]
  },
  {
   "cell_type": "markdown",
   "id": "b578fd84-b039-459a-aa77-dadf36e51d1a",
   "metadata": {
    "id": "b578fd84-b039-459a-aa77-dadf36e51d1a"
   },
   "source": [
    "Nosotros elegimos el criterio de `Equalized Odds` debido a que como personal del banco tenemos que encontrar un balance que no perjudique a los clientes pero tampoco a nuestra institucion:\n",
    "\n",
    "Los clientes que si pagarán son aprobados en las mismas probabilidades entre hombres y mujeres.\n",
    "Mientras que los que no pagarian, son rechazados en la misma probabilidad para los dos grupos. Esta medida haria el modelo mas confiable desde una perspectiva bancaria."
   ]
  },
  {
   "cell_type": "markdown",
   "id": "73fa3fd1",
   "metadata": {},
   "source": [
    "# Modelos con Mitigación de Sesgos"
   ]
  },
  {
   "cell_type": "markdown",
   "id": "e8f5c6f4",
   "metadata": {},
   "source": [
    "## Pre-processing"
   ]
  },
  {
   "cell_type": "markdown",
   "id": "GEdv3465jpWs",
   "metadata": {
    "id": "GEdv3465jpWs"
   },
   "source": [
    "### Reweighting"
   ]
  },
  {
   "cell_type": "markdown",
   "id": "XvDj7udajwFD",
   "metadata": {
    "id": "XvDj7udajwFD"
   },
   "source": [
    "Comparar p esperado y el observado"
   ]
  },
  {
   "cell_type": "code",
   "execution_count": 26,
   "id": "TKkywob4bBSt",
   "metadata": {
    "colab": {
     "base_uri": "https://localhost:8080/"
    },
    "executionInfo": {
     "elapsed": 29,
     "status": "ok",
     "timestamp": 1748538129075,
     "user": {
      "displayName": "Valentino Bustos Sak",
      "userId": "06034234704710139403"
     },
     "user_tz": 180
    },
    "id": "TKkywob4bBSt",
    "outputId": "aea262e0-d618-4245-b17a-e1e9dbe790c7"
   },
   "outputs": [
    {
     "name": "stdout",
     "output_type": "stream",
     "text": [
      "P Esperado:  0.11699999999999999\n"
     ]
    }
   ],
   "source": [
    "print(f\"P Esperado: \",((X_train['sex_male']==False).sum()/len(X_train))*((pd.DataFrame(y_train)[\"target\"]==1).sum()/len(y_train)))"
   ]
  },
  {
   "cell_type": "code",
   "execution_count": 27,
   "id": "S7Qh9LDMeIB2",
   "metadata": {
    "colab": {
     "base_uri": "https://localhost:8080/"
    },
    "executionInfo": {
     "elapsed": 259,
     "status": "ok",
     "timestamp": 1748538132858,
     "user": {
      "displayName": "Valentino Bustos Sak",
      "userId": "06034234704710139403"
     },
     "user_tz": 180
    },
    "id": "S7Qh9LDMeIB2",
    "outputId": "0169b8f3-b963-445e-ac7a-a12c00910d10"
   },
   "outputs": [
    {
     "name": "stdout",
     "output_type": "stream",
     "text": [
      "P Observado:  0.11\n"
     ]
    }
   ],
   "source": [
    "acum=0\n",
    "for index in X_train.index.to_list():\n",
    "  if pd.DataFrame(y_train)[\"target\"].loc[index]==1 and X_train[\"sex_male\"].loc[index]==False:\n",
    "    acum+=1\n",
    "print(f\"P Observado: \",acum/len(X_train))"
   ]
  },
  {
   "cell_type": "markdown",
   "id": "5fVgvsm_oZ08",
   "metadata": {
    "id": "5fVgvsm_oZ08"
   },
   "source": [
    "Aplicamos el mitigador"
   ]
  },
  {
   "cell_type": "code",
   "execution_count": 28,
   "id": "74Xuoa1mfQPU",
   "metadata": {
    "executionInfo": {
     "elapsed": 40,
     "status": "ok",
     "timestamp": 1748538135582,
     "user": {
      "displayName": "Valentino Bustos Sak",
      "userId": "06034234704710139403"
     },
     "user_tz": 180
    },
    "id": "74Xuoa1mfQPU"
   },
   "outputs": [],
   "source": [
    "mitigador_w = Reweighing()\n",
    "modelo_w=DecisionTreeClassifier(criterion=\"gini\", max_depth=10, min_samples_leaf=5, min_samples_split=2, random_state=42)\n",
    "pipeline_W = HolPipeline(steps=[(\"bm_preprocessing\", mitigador_w), (\"estimator\", modelo_w),])\n",
    "pipeline_W.fit(X_train,y_train, bm__group_a=X_train[\"sex_male\"], bm__group_b=~X_train[\"sex_male\"])\n",
    "y_pred_weight = pipeline_W.predict(X_test, bm__group_a=X_test[\"sex_male\"], bm__group_b=~X_test[\"sex_male\"])\n"
   ]
  },
  {
   "cell_type": "markdown",
   "id": "ZrvPeh9Ooe3F",
   "metadata": {
    "id": "ZrvPeh9Ooe3F"
   },
   "source": [
    "Calculamos metricas"
   ]
  },
  {
   "cell_type": "code",
   "execution_count": 29,
   "id": "bd407e19",
   "metadata": {},
   "outputs": [
    {
     "name": "stdout",
     "output_type": "stream",
     "text": [
      "                                       Value  Reference\n",
      "Metric                                                 \n",
      "Statistical Parity                  0.001307          0\n",
      "Disparate Impact                    1.001898          1\n",
      "Four Fifths Rule                    0.998106          1\n",
      "Cohen D                             0.002826          0\n",
      "2SD Rule                            0.017480          0\n",
      "Equality of Opportunity Difference  0.094875          0\n",
      "False Positive Rate Difference     -0.228041          0\n",
      "Average Odds Difference            -0.066583          0\n",
      "Accuracy Difference                 0.158170          0\n"
     ]
    }
   ],
   "source": [
    "# Metricas de reweighing\n",
    "metrics_rw = classification_bias_metrics(\n",
    "    X_test['sex_male'],\n",
    "    ~X_test['sex_male'],\n",
    "    y_pred_weight,\n",
    "    y_test,\n",
    "    metric_type='both'\n",
    ")\n",
    "\n",
    "print(metrics_rw)"
   ]
  },
  {
   "cell_type": "markdown",
   "id": "qK8I_xj8qvds",
   "metadata": {
    "id": "qK8I_xj8qvds"
   },
   "source": [
    "Mejoró un poco el TPR pero empeoró un montón el FPR"
   ]
  },
  {
   "cell_type": "markdown",
   "id": "W3bh3Ps649Qy",
   "metadata": {
    "id": "W3bh3Ps649Qy"
   },
   "source": [
    "### Correlation remover"
   ]
  },
  {
   "cell_type": "markdown",
   "id": "e_iNOczg5_sy",
   "metadata": {
    "id": "e_iNOczg5_sy"
   },
   "source": [
    "Buscamos correlaciones"
   ]
  },
  {
   "cell_type": "code",
   "execution_count": 30,
   "id": "GU4EH1X75SxR",
   "metadata": {
    "colab": {
     "base_uri": "https://localhost:8080/",
     "height": 576
    },
    "executionInfo": {
     "elapsed": 361,
     "status": "ok",
     "timestamp": 1748538149824,
     "user": {
      "displayName": "Valentino Bustos Sak",
      "userId": "06034234704710139403"
     },
     "user_tz": 180
    },
    "id": "GU4EH1X75SxR",
    "outputId": "8bdcc6f1-e483-4757-e27c-71bbd5c59e1a"
   },
   "outputs": [
    {
     "data": {
      "image/png": "[encoded data removed]",
      "text/plain": [
       "<Figure size 640x480 with 2 Axes>"
      ]
     },
     "metadata": {},
     "output_type": "display_data"
    }
   ],
   "source": [
    "X_num=df[[\"age\",\"duration\",\"amount\",\"sex\"]]\n",
    "X_num[\"sex\"] = df[\"sex\"].map({\"male\": 1, \"female\": 0})\n",
    "\n",
    "corr = X_num.corr()\n",
    "sns.heatmap(corr, annot=True, cmap='coolwarm')\n",
    "plt.title(\"Matriz de Correlación\")\n",
    "plt.show()\n"
   ]
  },
  {
   "cell_type": "markdown",
   "id": "-E9Feyzt6CEI",
   "metadata": {
    "id": "-E9Feyzt6CEI"
   },
   "source": [
    "Hay"
   ]
  },
  {
   "cell_type": "code",
   "execution_count": 31,
   "id": "DCNtfFiR6ODZ",
   "metadata": {
    "executionInfo": {
     "elapsed": 19,
     "status": "ok",
     "timestamp": 1748538153255,
     "user": {
      "displayName": "Valentino Bustos Sak",
      "userId": "06034234704710139403"
     },
     "user_tz": 180
    },
    "id": "DCNtfFiR6ODZ"
   },
   "outputs": [],
   "source": [
    "mitigador_cr = CorrelationRemover()\n",
    "modelo_cr=DecisionTreeClassifier(criterion=\"gini\", max_depth=10, min_samples_leaf=5, min_samples_split=2, random_state=42)\n",
    "pipeline_cr = HolPipeline(steps=[(\"bm_preprocessing\", mitigador_cr), (\"estimator\", modelo_cr),])\n",
    "pipeline_cr.fit(X_train[[\"age\",\"duration\",\"amount\"]],y_train, bm__group_a=X_train[\"sex_male\"], bm__group_b=~X_train[\"sex_male\"])\n",
    "y_pred_cr = pipeline_cr.predict(X_test[[\"age\",\"duration\",\"amount\"]], bm__group_a=X_test[\"sex_male\"], bm__group_b=~X_test[\"sex_male\"])"
   ]
  },
  {
   "cell_type": "code",
   "execution_count": 32,
   "id": "05198efe",
   "metadata": {},
   "outputs": [
    {
     "name": "stdout",
     "output_type": "stream",
     "text": [
      "                                       Value  Reference\n",
      "Metric                                                 \n",
      "Statistical Parity                  0.000000          0\n",
      "Disparate Impact                    1.000000          1\n",
      "Four Fifths Rule                    1.000000          1\n",
      "Cohen D                             0.000000          0\n",
      "2SD Rule                            0.000000          0\n",
      "Equality of Opportunity Difference  0.071442          0\n",
      "False Positive Rate Difference     -0.168919          0\n",
      "Average Odds Difference            -0.048738          0\n",
      "Accuracy Difference                 0.130719          0\n"
     ]
    }
   ],
   "source": [
    "# Evaluar métricas de fairness para el modelo con Correlation Remover\n",
    "metrics_cr = classification_bias_metrics(\n",
    "    X_test['sex_male'],\n",
    "    ~X_test['sex_male'],\n",
    "    y_pred_cr,\n",
    "    y_test,\n",
    "    metric_type='both'\n",
    ")\n",
    "\n",
    "print(metrics_cr)"
   ]
  },
  {
   "cell_type": "markdown",
   "id": "be84bd82",
   "metadata": {},
   "source": [
    "Mejoró bastante el Equal Opportunity, ahora está dentro del umbral. Sin embargo el FPRD todavía es peor que el baseline"
   ]
  },
  {
   "cell_type": "markdown",
   "id": "68a66dab",
   "metadata": {},
   "source": [
    "## In-processing"
   ]
  },
  {
   "cell_type": "markdown",
   "id": "39bf1873",
   "metadata": {},
   "source": [
    "### Prejudice Remover"
   ]
  },
  {
   "cell_type": "markdown",
   "id": "6f9b5f9a",
   "metadata": {},
   "source": [
    "Vamos con un modelo con mitigacion in-processing. Para esto introducimos Prejudice Remover pero esta vez tenemos que aplicarlo en un regresor logístico por la naturaleza de este método de mitigación:"
   ]
  },
  {
   "cell_type": "markdown",
   "id": "b7b34e61",
   "metadata": {},
   "source": [
    "Baseline logistic regression:"
   ]
  },
  {
   "cell_type": "code",
   "execution_count": 33,
   "id": "44b12a40",
   "metadata": {},
   "outputs": [
    {
     "name": "stdout",
     "output_type": "stream",
     "text": [
      "                                       Value  Reference\n",
      "Metric                                                 \n",
      "Statistical Parity                  0.071895          0\n",
      "Disparate Impact                    1.104364          1\n",
      "Four Fifths Rule                    0.905498          1\n",
      "Cohen D                             0.166362          0\n",
      "2SD Rule                            1.026872          0\n",
      "Equality of Opportunity Difference -0.016765          0\n",
      "False Positive Rate Difference      0.179054          0\n",
      "Average Odds Difference             0.081144          0\n",
      "Accuracy Difference                -0.048366          0\n"
     ]
    }
   ],
   "source": [
    "from sklearn.linear_model import LogisticRegression\n",
    "\n",
    "# Entrenar modelo baseline LogisticRegression\n",
    "logreg = LogisticRegression(random_state=42, max_iter=1000)\n",
    "logreg.fit(X_train, y_train)\n",
    "\n",
    "# Predicciones\n",
    "y_pred_logreg = logreg.predict(X_test)\n",
    "\n",
    "# Métricas\n",
    "\n",
    "# Evaluate bias metrics for pipeline model\n",
    "metrics_inprocessing_lr = classification_bias_metrics(\n",
    "    X_test['sex_male'], \n",
    "    ~X_test['sex_male'], \n",
    "    y_pred_logreg, \n",
    "    y_test, \n",
    "    metric_type='both')\n",
    "\n",
    "print(metrics_inprocessing_lr)"
   ]
  },
  {
   "cell_type": "markdown",
   "id": "b8e1df00",
   "metadata": {},
   "source": [
    "Prejudice Remover:"
   ]
  },
  {
   "cell_type": "code",
   "execution_count": 34,
   "id": "164fdcd8",
   "metadata": {},
   "outputs": [
    {
     "name": "stdout",
     "output_type": "stream",
     "text": [
      "[elapsed time: 00:00:00 | iter:17/100 | loss:283.6373]\n",
      "[elapsed time: 00:00:00 | Best Loss : 283.6373]\n",
      "                                       Value  Reference\n",
      "Metric                                                 \n",
      "Statistical Parity                  0.026144          0\n",
      "Disparate Impact                    1.036765          1\n",
      "Four Fifths Rule                    0.964539          1\n",
      "Cohen D                             0.059137          0\n",
      "2SD Rule                            0.365636          0\n",
      "Equality of Opportunity Difference  0.104591          0\n",
      "False Positive Rate Difference     -0.173986          0\n",
      "Average Odds Difference            -0.034698          0\n",
      "Accuracy Difference                 0.151634          0\n"
     ]
    }
   ],
   "source": [
    "import warnings\n",
    "from sklearn.linear_model import LogisticRegression\n",
    "warnings.filterwarnings('ignore')\n",
    "\n",
    "modelo_pr = LogisticRegression()\n",
    "mitigator = PrejudiceRemover(maxiter=100, fit_intercept=True, verbose=1, print_interval=1).transform_estimator(modelo_pr)\n",
    "\n",
    "\n",
    "# Define pipeline\n",
    "pipeline_pr = HolPipeline(steps=[('scalar', StandardScaler()), ('bm_inprocessing', mitigator)])\n",
    "pipeline_pr.fit(X_train,y_train, bm__group_a=X_train[\"sex_male\"], bm__group_b=~X_train[\"sex_male\"])\n",
    "\n",
    "# Make predictions\n",
    "y_pred_pipeline_pr = pipeline_pr.predict(X_test, bm__group_a=X_test[\"sex_male\"], bm__group_b=~X_test[\"sex_male\"])\n",
    "\n",
    "# Evaluate bias metrics for pipeline model\n",
    "metrics_inprocessing_pr = classification_bias_metrics(\n",
    "    X_test['sex_male'], \n",
    "    ~X_test['sex_male'], \n",
    "    y_pred_pipeline_pr, \n",
    "    y_test, \n",
    "    metric_type='both')\n",
    "\n",
    "print(metrics_inprocessing_pr)"
   ]
  },
  {
   "cell_type": "markdown",
   "id": "cdd2bb9d",
   "metadata": {},
   "source": [
    "Nos da peores métricas que el baseline si nos fijamos solo en Equalized Odds"
   ]
  },
  {
   "cell_type": "markdown",
   "id": "614548b8",
   "metadata": {},
   "source": [
    "## Post-processing"
   ]
  },
  {
   "cell_type": "markdown",
   "id": "c1b6a3f5",
   "metadata": {},
   "source": [
    "### MLDebiaser"
   ]
  }
 ],
 "metadata": {
  "colab": {
   "provenance": []
  },
  "kernelspec": {
   "display_name": "pymc_env",
   "language": "python",
   "name": "python3"
  },
  "language_info": {
   "codemirror_mode": {
    "name": "ipython",
    "version": 3
   },
   "file_extension": ".py",
   "mimetype": "text/x-python",
   "name": "python",
   "nbconvert_exporter": "python",
   "pygments_lexer": "ipython3",
   "version": "3.11.10"
  }
 },
 "nbformat": 4,
 "nbformat_minor": 5
}
