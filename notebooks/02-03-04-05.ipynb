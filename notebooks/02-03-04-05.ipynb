{
 "cells": [
  {
   "cell_type": "markdown",
   "id": "66e33fe2",
   "metadata": {
    "id": "66e33fe2"
   },
   "source": [
    "# 02 - Modelo Inicial\n",
    "Repositorio: [github.com/MateoRomano02/tp_equidad](https://github.com/MateoRomano02/tp_equidad)\n",
    "\n",
    "\n",
    "Este notebook corresponde al punto N°2, N°3 y N°4 del TP"
   ]
  },
  {
   "cell_type": "markdown",
   "id": "0490183a",
   "metadata": {
    "id": "0490183a"
   },
   "source": [
    "## Objetivo\n",
    "Entrenar un modelo de clasificación sobre el dataset *German Credit Data* y evaluar su rendimiento con métricas como accuracy, precision, recall y F1-score. Además, se analizará cuál error es más costoso para el banco."
   ]
  },
  {
   "cell_type": "code",
   "execution_count": 2,
   "id": "615d3222",
   "metadata": {
    "executionInfo": {
     "elapsed": 16,
     "status": "ok",
     "timestamp": 1748538064213,
     "user": {
      "displayName": "Valentino Bustos Sak",
      "userId": "06034234704710139403"
     },
     "user_tz": 180
    },
    "id": "615d3222"
   },
   "outputs": [],
   "source": [
    "import pandas as pd\n",
    "import numpy as np\n",
    "import seaborn as sns\n",
    "import matplotlib.pyplot as plt\n",
    "from sklearn.model_selection import train_test_split, GridSearchCV\n",
    "from sklearn.tree import DecisionTreeClassifier\n",
    "from sklearn.metrics import classification_report, confusion_matrix\n",
    "from sklearn.preprocessing import StandardScaler\n",
    "from imblearn.over_sampling import SMOTE\n",
    "from imblearn.pipeline import Pipeline as ImbPipeline\n",
    "from holisticai.bias.mitigation import Reweighing\n",
    "from holisticai.pipeline import Pipeline as HolPipeline\n",
    "from holisticai.bias.mitigation import CorrelationRemover\n",
    "from holisticai.bias.mitigation import PrejudiceRemover\n",
    "from holisticai.bias.metrics import classification_bias_metrics"
   ]
  },
  {
   "cell_type": "markdown",
   "id": "35d4a685",
   "metadata": {
    "id": "35d4a685"
   },
   "source": [
    "## Carga de datos"
   ]
  },
  {
   "cell_type": "code",
   "execution_count": 3,
   "id": "e542bd10",
   "metadata": {
    "colab": {
     "base_uri": "https://localhost:8080/",
     "height": 429
    },
    "executionInfo": {
     "elapsed": 63,
     "status": "ok",
     "timestamp": 1748528336562,
     "user": {
      "displayName": "Valentino Bustos Sak",
      "userId": "06034234704710139403"
     },
     "user_tz": 180
    },
    "id": "e542bd10",
    "outputId": "8442e3ec-6ff0-4ee1-c9ca-a9058cf11166"
   },
   "outputs": [
    {
     "data": {
      "text/html": [
       "<div>\n",
       "<style scoped>\n",
       "    .dataframe tbody tr th:only-of-type {\n",
       "        vertical-align: middle;\n",
       "    }\n",
       "\n",
       "    .dataframe tbody tr th {\n",
       "        vertical-align: top;\n",
       "    }\n",
       "\n",
       "    .dataframe thead th {\n",
       "        text-align: right;\n",
       "    }\n",
       "</style>\n",
       "<table border=\"1\" class=\"dataframe\">\n",
       "  <thead>\n",
       "    <tr style=\"text-align: right;\">\n",
       "      <th></th>\n",
       "      <th>status</th>\n",
       "      <th>duration</th>\n",
       "      <th>credit_history</th>\n",
       "      <th>purpose</th>\n",
       "      <th>amount</th>\n",
       "      <th>savings</th>\n",
       "      <th>employment_duration</th>\n",
       "      <th>installment_rate</th>\n",
       "      <th>other_debtors</th>\n",
       "      <th>present_residence</th>\n",
       "      <th>...</th>\n",
       "      <th>other_installment_plans</th>\n",
       "      <th>housing</th>\n",
       "      <th>number_credits</th>\n",
       "      <th>job</th>\n",
       "      <th>people_liable</th>\n",
       "      <th>telephone</th>\n",
       "      <th>foreign_worker</th>\n",
       "      <th>target</th>\n",
       "      <th>sex</th>\n",
       "      <th>personal_status</th>\n",
       "    </tr>\n",
       "  </thead>\n",
       "  <tbody>\n",
       "    <tr>\n",
       "      <th>0</th>\n",
       "      <td>no checking account</td>\n",
       "      <td>9</td>\n",
       "      <td>all credits at this bank paid back duly</td>\n",
       "      <td>others</td>\n",
       "      <td>2799</td>\n",
       "      <td>unknown/no savings account</td>\n",
       "      <td>1 &lt;= ... &lt; 4 yrs</td>\n",
       "      <td>25 &lt;= ... &lt; 35</td>\n",
       "      <td>none</td>\n",
       "      <td>1 &lt;= ... &lt; 4 yrs</td>\n",
       "      <td>...</td>\n",
       "      <td>none</td>\n",
       "      <td>for free</td>\n",
       "      <td>2-3</td>\n",
       "      <td>skilled employee/official</td>\n",
       "      <td>3 or more</td>\n",
       "      <td>no</td>\n",
       "      <td>no</td>\n",
       "      <td>good</td>\n",
       "      <td>male</td>\n",
       "      <td>non-single</td>\n",
       "    </tr>\n",
       "    <tr>\n",
       "      <th>1</th>\n",
       "      <td>no checking account</td>\n",
       "      <td>12</td>\n",
       "      <td>all credits at this bank paid back duly</td>\n",
       "      <td>others</td>\n",
       "      <td>2122</td>\n",
       "      <td>unknown/no savings account</td>\n",
       "      <td>1 &lt;= ... &lt; 4 yrs</td>\n",
       "      <td>20 &lt;= ... &lt; 25</td>\n",
       "      <td>none</td>\n",
       "      <td>1 &lt;= ... &lt; 4 yrs</td>\n",
       "      <td>...</td>\n",
       "      <td>none</td>\n",
       "      <td>for free</td>\n",
       "      <td>2-3</td>\n",
       "      <td>unskilled - resident</td>\n",
       "      <td>3 or more</td>\n",
       "      <td>no</td>\n",
       "      <td>yes</td>\n",
       "      <td>good</td>\n",
       "      <td>male</td>\n",
       "      <td>non-single</td>\n",
       "    </tr>\n",
       "    <tr>\n",
       "      <th>2</th>\n",
       "      <td>no checking account</td>\n",
       "      <td>12</td>\n",
       "      <td>all credits at this bank paid back duly</td>\n",
       "      <td>others</td>\n",
       "      <td>2171</td>\n",
       "      <td>unknown/no savings account</td>\n",
       "      <td>1 &lt;= ... &lt; 4 yrs</td>\n",
       "      <td>&lt; 20</td>\n",
       "      <td>none</td>\n",
       "      <td>&gt;= 7 yrs</td>\n",
       "      <td>...</td>\n",
       "      <td>bank</td>\n",
       "      <td>rent</td>\n",
       "      <td>2-3</td>\n",
       "      <td>unskilled - resident</td>\n",
       "      <td>0 to 2</td>\n",
       "      <td>no</td>\n",
       "      <td>yes</td>\n",
       "      <td>good</td>\n",
       "      <td>male</td>\n",
       "      <td>non-single</td>\n",
       "    </tr>\n",
       "    <tr>\n",
       "      <th>3</th>\n",
       "      <td>no checking account</td>\n",
       "      <td>10</td>\n",
       "      <td>all credits at this bank paid back duly</td>\n",
       "      <td>others</td>\n",
       "      <td>2241</td>\n",
       "      <td>unknown/no savings account</td>\n",
       "      <td>&lt; 1 yr</td>\n",
       "      <td>&gt;= 35</td>\n",
       "      <td>none</td>\n",
       "      <td>4 &lt;= ... &lt; 7 yrs</td>\n",
       "      <td>...</td>\n",
       "      <td>none</td>\n",
       "      <td>for free</td>\n",
       "      <td>2-3</td>\n",
       "      <td>unskilled - resident</td>\n",
       "      <td>3 or more</td>\n",
       "      <td>no</td>\n",
       "      <td>yes</td>\n",
       "      <td>good</td>\n",
       "      <td>male</td>\n",
       "      <td>non-single</td>\n",
       "    </tr>\n",
       "    <tr>\n",
       "      <th>4</th>\n",
       "      <td>no checking account</td>\n",
       "      <td>8</td>\n",
       "      <td>all credits at this bank paid back duly</td>\n",
       "      <td>others</td>\n",
       "      <td>3398</td>\n",
       "      <td>unknown/no savings account</td>\n",
       "      <td>4 &lt;= ... &lt; 7 yrs</td>\n",
       "      <td>&gt;= 35</td>\n",
       "      <td>none</td>\n",
       "      <td>&gt;= 7 yrs</td>\n",
       "      <td>...</td>\n",
       "      <td>none</td>\n",
       "      <td>rent</td>\n",
       "      <td>2-3</td>\n",
       "      <td>unskilled - resident</td>\n",
       "      <td>0 to 2</td>\n",
       "      <td>no</td>\n",
       "      <td>yes</td>\n",
       "      <td>good</td>\n",
       "      <td>male</td>\n",
       "      <td>non-single</td>\n",
       "    </tr>\n",
       "  </tbody>\n",
       "</table>\n",
       "<p>5 rows × 22 columns</p>\n",
       "</div>"
      ],
      "text/plain": [
       "                status  duration                           credit_history  \\\n",
       "0  no checking account         9  all credits at this bank paid back duly   \n",
       "1  no checking account        12  all credits at this bank paid back duly   \n",
       "2  no checking account        12  all credits at this bank paid back duly   \n",
       "3  no checking account        10  all credits at this bank paid back duly   \n",
       "4  no checking account         8  all credits at this bank paid back duly   \n",
       "\n",
       "  purpose  amount                     savings employment_duration  \\\n",
       "0  others    2799  unknown/no savings account    1 <= ... < 4 yrs   \n",
       "1  others    2122  unknown/no savings account    1 <= ... < 4 yrs   \n",
       "2  others    2171  unknown/no savings account    1 <= ... < 4 yrs   \n",
       "3  others    2241  unknown/no savings account              < 1 yr   \n",
       "4  others    3398  unknown/no savings account    4 <= ... < 7 yrs   \n",
       "\n",
       "  installment_rate other_debtors present_residence  ...  \\\n",
       "0   25 <= ... < 35          none  1 <= ... < 4 yrs  ...   \n",
       "1   20 <= ... < 25          none  1 <= ... < 4 yrs  ...   \n",
       "2             < 20          none          >= 7 yrs  ...   \n",
       "3            >= 35          none  4 <= ... < 7 yrs  ...   \n",
       "4            >= 35          none          >= 7 yrs  ...   \n",
       "\n",
       "  other_installment_plans   housing number_credits                        job  \\\n",
       "0                    none  for free            2-3  skilled employee/official   \n",
       "1                    none  for free            2-3       unskilled - resident   \n",
       "2                    bank      rent            2-3       unskilled - resident   \n",
       "3                    none  for free            2-3       unskilled - resident   \n",
       "4                    none      rent            2-3       unskilled - resident   \n",
       "\n",
       "  people_liable telephone foreign_worker target   sex personal_status  \n",
       "0     3 or more        no             no   good  male      non-single  \n",
       "1     3 or more        no            yes   good  male      non-single  \n",
       "2        0 to 2        no            yes   good  male      non-single  \n",
       "3     3 or more        no            yes   good  male      non-single  \n",
       "4        0 to 2        no            yes   good  male      non-single  \n",
       "\n",
       "[5 rows x 22 columns]"
      ]
     },
     "execution_count": 3,
     "metadata": {},
     "output_type": "execute_result"
    }
   ],
   "source": [
    "\n",
    "df = pd.read_csv(\"..\\data\\processed\\south_german_credit_clean.csv\")\n",
    "\n",
    "df.head()\n"
   ]
  },
  {
   "cell_type": "markdown",
   "id": "4a73747b-3e8b-4895-997d-1dc2b324bdd3",
   "metadata": {
    "id": "4a73747b-3e8b-4895-997d-1dc2b324bdd3"
   },
   "source": [
    "## Modelo baseline"
   ]
  },
  {
   "cell_type": "markdown",
   "id": "a1232ee6",
   "metadata": {
    "id": "a1232ee6"
   },
   "source": [
    "Vamos a entrenar un *Árbol de Decisión* porque es fácil de entender y nos parece adecuado para un primer modelo.\n",
    "\n",
    "Por el desbalance de clases, conviene usar SMOTE y de paso podemos armar un pipeline para buscar buenos parámetros con Grid Search y validación cruzada."
   ]
  },
  {
   "cell_type": "code",
   "execution_count": 4,
   "id": "f7588ffd",
   "metadata": {
    "executionInfo": {
     "elapsed": 14724,
     "status": "ok",
     "timestamp": 1748538085137,
     "user": {
      "displayName": "Valentino Bustos Sak",
      "userId": "06034234704710139403"
     },
     "user_tz": 180
    },
    "id": "f7588ffd"
   },
   "outputs": [],
   "source": [
    "# Separar features y target\n",
    "X = df.drop(columns=[\"target\"])\n",
    "y = df[\"target\"].map({\"good\": 1, \"bad\": 0})  # good = positivo (1), bad = negativo (0)\n",
    "\n",
    "# Codificar variables categóricas\n",
    "X = pd.get_dummies(X, drop_first=True)\n",
    "\n",
    "# Dividir en train/test (30% test)\n",
    "X_train, X_test, y_train, y_test = train_test_split(\n",
    "    X, y, test_size=0.3, stratify=y, random_state=42\n",
    ")\n",
    "\n",
    "# Pipeline con SMOTE + Árbol + GridSearch\n",
    "pipeline = ImbPipeline([\n",
    "    (\"smote\", SMOTE(random_state=42)),\n",
    "    (\"scaler\", StandardScaler()),  # No es estrictamente necesario para árboles, pero lo incluye por buenas prácticas\n",
    "    (\"clf\", DecisionTreeClassifier(random_state=42))\n",
    "])\n",
    "\n",
    "# Definir los hiperparámetros a buscar\n",
    "param_grid = {\n",
    "    \"clf__max_depth\": [3, 5, 10, None],\n",
    "    \"clf__min_samples_split\": [2, 5, 10],\n",
    "    \"clf__min_samples_leaf\": [1, 2, 5],\n",
    "    \"clf__criterion\": [\"gini\", \"entropy\"]\n",
    "}\n",
    "\n",
    "# GridSearch con validación cruzada\n",
    "grid_search = GridSearchCV(\n",
    "    pipeline, param_grid, scoring=\"f1\", cv=5, n_jobs=-1\n",
    ")\n",
    "grid_search.fit(X_train, y_train)\n",
    "\n",
    "# Predicciones\n",
    "y_pred = grid_search.predict(X_test)\n",
    "\n",
    "# Métricas\n",
    "conf_matrix = confusion_matrix(y_test, y_pred)\n",
    "class_report = classification_report(y_test, y_pred, target_names=[\"bad (0)\", \"good (1)\"])\n",
    "best_params = grid_search.best_params_"
   ]
  },
  {
   "cell_type": "code",
   "execution_count": 5,
   "id": "f68098d1",
   "metadata": {
    "id": "f68098d1"
   },
   "outputs": [
    {
     "name": "stdout",
     "output_type": "stream",
     "text": [
      "Mejores hiperparámetros encontrados por GridSearch:\n",
      "  clf__criterion: gini\n",
      "  clf__max_depth: 10\n",
      "  clf__min_samples_leaf: 5\n",
      "  clf__min_samples_split: 2\n",
      "\n",
      "Reporte de clasificación en test:\n",
      "              precision    recall  f1-score   support\n",
      "\n",
      "     bad (0)       0.45      0.49      0.47        90\n",
      "    good (1)       0.77      0.74      0.76       210\n",
      "\n",
      "    accuracy                           0.67       300\n",
      "   macro avg       0.61      0.62      0.61       300\n",
      "weighted avg       0.68      0.67      0.67       300\n",
      "\n"
     ]
    },
    {
     "data": {
      "image/png": "[encoded data removed]",
      "text/plain": [
       "<Figure size 500x400 with 1 Axes>"
      ]
     },
     "metadata": {},
     "output_type": "display_data"
    }
   ],
   "source": [
    "# print de las métrcias\n",
    "\n",
    "print(\"Mejores hiperparámetros encontrados por GridSearch:\")\n",
    "for k, v in best_params.items():\n",
    "    print(f\"  {k}: {v}\")\n",
    "print(\"\\nReporte de clasificación en test:\")\n",
    "print(class_report)\n",
    "\n",
    "# Plot de la matriz de confusión\n",
    "plt.figure(figsize=(5,4))\n",
    "sns.heatmap(conf_matrix, annot=True, fmt=\"d\", cmap=\"Blues\", cbar=False,\n",
    "            xticklabels=[\"Pred. Bad (0)\", \"Pred. Good (1)\"],\n",
    "            yticklabels=[\"True Bad (0)\", \"True Good (1)\"])\n",
    "plt.title(\"Matriz de Confusión\")\n",
    "plt.ylabel(\"Valor Real\")\n",
    "plt.xlabel(\"Predicción\")\n",
    "plt.show()"
   ]
  },
  {
   "cell_type": "markdown",
   "id": "65f54336",
   "metadata": {
    "id": "65f54336"
   },
   "source": [
    "## Análisis de errores y trade-off"
   ]
  },
  {
   "cell_type": "markdown",
   "id": "697a1853",
   "metadata": {
    "id": "697a1853"
   },
   "source": [
    "En el contexto bancario, donde el objetivo es **maximizar los préstamos otorgados a personas que efectivamente los van a pagar**, el **falso positivo** (darle un préstamo a alguien que no lo va a pagar) puede representar una **pérdida financiera** significativa.\n",
    "\n",
    "En cambio, un **falso negativo** (negarle un préstamo a alguien que sí lo iba a pagar) implica una oportunidad perdida, pero no un costo directo. Por eso, **los falsos positivos son el error más costoso** en este escenario.\n",
    "\n",
    "Esto debería reflejarse en el umbral de decisión y posiblemente en la elección de métricas (por ejemplo, priorizar un FPR bajo).\n"
   ]
  },
  {
   "cell_type": "markdown",
   "id": "bf54cc67-a3e5-4511-a96f-8362dbec7719",
   "metadata": {
    "id": "bf54cc67-a3e5-4511-a96f-8362dbec7719"
   },
   "source": [
    "# 03 - Evaluación de equidad del modelo inicial\n"
   ]
  },
  {
   "cell_type": "markdown",
   "id": "e0c4d808-53d2-4122-b315-3e2846035ffa",
   "metadata": {
    "id": "e0c4d808-53d2-4122-b315-3e2846035ffa"
   },
   "source": [
    "## Descripcion de las metricas de fairness vistas en clase para este contexto"
   ]
  },
  {
   "cell_type": "markdown",
   "id": "6caa949a-b2b7-4a5d-972d-9c9e464521ed",
   "metadata": {
    "id": "6caa949a-b2b7-4a5d-972d-9c9e464521ed"
   },
   "source": [
    "1)Statistical Parity:\n",
    "La proporcion de creditos aprobados de ambos grupos analizados debe ser estar dentro de nuestro criterio de comparacion.\n",
    "Independientemente de la proporcion de buenos pagadores en ambos grupos, la prediccion positiva deberia ser la misma.\n",
    "\n",
    "2)Equalized Odds:\n",
    "La tasa de TPR y FPR debe ser la misma en ambos grupos.Es decir que el modelo se equivoca y acierta en la misma proporcion para ambos grupos, con respecto a la aprobacion\n",
    "de creditos en ambos grupos.\n",
    "\n",
    "3)Equal Opportunity:\n",
    "El modelo se asegura de que en solo el caso de quienes si pagarian el prestamo, sea igual la proporcion de aprobados crediticiamente para los dos grupos.\n",
    "\n",
    "4)Predictive Parity:\n",
    "Se busca que la calidad de aprobaciones sea equitativa para ambos grupos."
   ]
  },
  {
   "cell_type": "markdown",
   "id": "58ad79a9-5ac6-4099-a4c2-3805276fc7a4",
   "metadata": {
    "id": "58ad79a9-5ac6-4099-a4c2-3805276fc7a4"
   },
   "source": [
    "## Analisis de fairness en el modelo anterior"
   ]
  },
  {
   "cell_type": "markdown",
   "id": "b9cb101b-d2d0-4a51-8b0e-3bbb6a6973a3",
   "metadata": {
    "id": "b9cb101b-d2d0-4a51-8b0e-3bbb6a6973a3"
   },
   "source": [
    " El umbral que nosotros proponemos para la diferencia del modulo entre las metricas de ambos grupos es el del 0.08 (8%)"
   ]
  },
  {
   "cell_type": "markdown",
   "id": "303d67ed-ee7e-4033-aa04-b58ff4088427",
   "metadata": {
    "id": "303d67ed-ee7e-4033-aa04-b58ff4088427"
   },
   "source": [
    "## Obtencion de las metricas"
   ]
  },
  {
   "cell_type": "markdown",
   "id": "fefa20ca",
   "metadata": {},
   "source": [
    "### con Holistic Ai:"
   ]
  },
  {
   "cell_type": "code",
   "execution_count": 6,
   "id": "8d990723",
   "metadata": {},
   "outputs": [
    {
     "name": "stdout",
     "output_type": "stream",
     "text": [
      "Métricas de fairness (modelo base):\n",
      "                                       Value  Reference\n",
      "Metric                                                 \n",
      "Statistical Parity                 -0.018301          0\n",
      "Disparate Impact                    0.973435          1\n",
      "Four Fifths Rule                    0.973435          1\n",
      "Cohen D                            -0.039023          0\n",
      "2SD Rule                           -0.241332          0\n",
      "Equality of Opportunity Difference -0.098304          0\n",
      "False Positive Rate Difference      0.089527          0\n",
      "Average Odds Difference            -0.004389          0\n",
      "Accuracy Difference                -0.078431          0\n"
     ]
    }
   ],
   "source": [
    "from holisticai.bias.metrics import classification_bias_metrics\n",
    "\n",
    "df_eval = X_test.copy()\n",
    "df_eval[\"y_true\"] = y_test\n",
    "df_eval[\"y_pred\"] = y_pred\n",
    "# Para el modelo base (sin mitigación)\n",
    "metrics_base = classification_bias_metrics(\n",
    "    df_eval[\"sex_male\"] == True,\n",
    "    df_eval[\"sex_male\"] == False,\n",
    "    y_pred,\n",
    "    y_test,\n",
    "    metric_type=\"both\"\n",
    ")\n",
    "\n",
    "print(\"Métricas de fairness (modelo base):\")\n",
    "print(metrics_base)"
   ]
  },
  {
   "cell_type": "markdown",
   "id": "8b781a0a-57b6-49d3-abda-ce936eefb4b3",
   "metadata": {
    "id": "8b781a0a-57b6-49d3-abda-ce936eefb4b3"
   },
   "source": [
    "## Conclusiones de los resultados de las metricas"
   ]
  },
  {
   "cell_type": "markdown",
   "id": "c6340ade-575f-4644-8b3d-1dbccad4ccee",
   "metadata": {
    "id": "c6340ade-575f-4644-8b3d-1dbccad4ccee"
   },
   "source": [
    "Cumple `Statistical Parity`, `Predictive Parity`, pero tiene una diferencia de `FPR` alta y no cumple `Equal Opportunity` (por ende tampoco `Equalized Odds`)"
   ]
  },
  {
   "cell_type": "markdown",
   "id": "b92a9cad-2ff9-4acd-97f2-6dec2d8acf84",
   "metadata": {
    "id": "b92a9cad-2ff9-4acd-97f2-6dec2d8acf84"
   },
   "source": [
    "## Elección del criterio de fairness"
   ]
  },
  {
   "cell_type": "markdown",
   "id": "b578fd84-b039-459a-aa77-dadf36e51d1a",
   "metadata": {
    "id": "b578fd84-b039-459a-aa77-dadf36e51d1a"
   },
   "source": [
    "Nosotros elegimos el criterio de `Equalized Odds` debido a que como personal del banco tenemos que encontrar un balance que no perjudique a los clientes pero tampoco a nuestra institucion:\n",
    "\n",
    "Los clientes que si pagarán son aprobados en las mismas probabilidades entre hombres y mujeres.\n",
    "Mientras que los que no pagarian, son rechazados en la misma probabilidad para los dos grupos. Esta medida haria el modelo mas confiable desde una perspectiva bancaria."
   ]
  },
  {
   "cell_type": "markdown",
   "id": "73fa3fd1",
   "metadata": {},
   "source": [
    "# 04 - Modelos con Mitigación de Sesgos"
   ]
  },
  {
   "cell_type": "markdown",
   "id": "4838716a",
   "metadata": {},
   "source": [
    "## *Funcion de plots y métricas*"
   ]
  },
  {
   "cell_type": "code",
   "execution_count": 9,
   "id": "33b7159f",
   "metadata": {},
   "outputs": [],
   "source": [
    "def mostrar_metricas_y_matriz_confusion(y_true, y_pred, group_a, group_b, nombre_modelo=\"Modelo\"):\n",
    "    \"\"\"\n",
    "    Imprime las métricas de fairness y muestra la matriz de confusión para un modelo dado.\n",
    "    \n",
    "    Parámetros:\n",
    "    - y_true: valores reales\n",
    "    - y_pred: predicciones del modelo\n",
    "    - group_a: grupo sensible A (ej: X_test[\"sex_male\"])\n",
    "    - group_b: grupo sensible B (ej: ~X_test[\"sex_male\"])\n",
    "    - nombre_modelo: nombre a mostrar en el título del gráfico\n",
    "    \"\"\"\n",
    "    from holisticai.bias.metrics import classification_bias_metrics\n",
    "    from sklearn.metrics import confusion_matrix\n",
    "    import seaborn as sns\n",
    "    import matplotlib.pyplot as plt\n",
    "\n",
    "    # Fairness metrics\n",
    "    metrics = classification_bias_metrics(\n",
    "        group_a,\n",
    "        group_b,\n",
    "        y_pred,\n",
    "        y_true,\n",
    "        metric_type='both'\n",
    "    )\n",
    "    print(f\"Métricas de fairness ({nombre_modelo}):\")\n",
    "    print(metrics)\n",
    "\n",
    "    # Matriz de confusión\n",
    "    cm = confusion_matrix(y_true, y_pred, labels=[0, 1])\n",
    "    plt.figure(figsize=(5, 4))\n",
    "    sns.heatmap(cm, annot=True, fmt='d', cmap='Blues',\n",
    "                xticklabels=[\"bad\", \"good\"],\n",
    "                yticklabels=[\"bad\", \"good\"])\n",
    "    plt.xlabel(\"Predicción\")\n",
    "    plt.ylabel(\"Valor real\")\n",
    "    plt.title(f\"Matriz de Confusión - {nombre_modelo}\")\n",
    "    plt.tight_layout()\n",
    "    plt.show()\n",
    "\n",
    "    class_report = classification_report(y_true, y_pred, target_names=[\"bad (0)\", \"good (1)\"])\n",
    "    print(\"\\nReporte de clasificación:\")\n",
    "    print(class_report)"
   ]
  },
  {
   "cell_type": "markdown",
   "id": "e8f5c6f4",
   "metadata": {},
   "source": [
    "## Pre-processing"
   ]
  },
  {
   "cell_type": "markdown",
   "id": "GEdv3465jpWs",
   "metadata": {
    "id": "GEdv3465jpWs"
   },
   "source": [
    "### Reweighting"
   ]
  },
  {
   "cell_type": "markdown",
   "id": "XvDj7udajwFD",
   "metadata": {
    "id": "XvDj7udajwFD"
   },
   "source": [
    "Comparar p esperado y el observado"
   ]
  },
  {
   "cell_type": "code",
   "execution_count": 10,
   "id": "TKkywob4bBSt",
   "metadata": {
    "colab": {
     "base_uri": "https://localhost:8080/"
    },
    "executionInfo": {
     "elapsed": 29,
     "status": "ok",
     "timestamp": 1748538129075,
     "user": {
      "displayName": "Valentino Bustos Sak",
      "userId": "06034234704710139403"
     },
     "user_tz": 180
    },
    "id": "TKkywob4bBSt",
    "outputId": "aea262e0-d618-4245-b17a-e1e9dbe790c7"
   },
   "outputs": [
    {
     "name": "stdout",
     "output_type": "stream",
     "text": [
      "P Esperado:  0.11699999999999999\n"
     ]
    }
   ],
   "source": [
    "print(f\"P Esperado: \",((X_train['sex_male']==False).sum()/len(X_train))*((pd.DataFrame(y_train)[\"target\"]==1).sum()/len(y_train)))"
   ]
  },
  {
   "cell_type": "code",
   "execution_count": 11,
   "id": "S7Qh9LDMeIB2",
   "metadata": {
    "colab": {
     "base_uri": "https://localhost:8080/"
    },
    "executionInfo": {
     "elapsed": 259,
     "status": "ok",
     "timestamp": 1748538132858,
     "user": {
      "displayName": "Valentino Bustos Sak",
      "userId": "06034234704710139403"
     },
     "user_tz": 180
    },
    "id": "S7Qh9LDMeIB2",
    "outputId": "0169b8f3-b963-445e-ac7a-a12c00910d10"
   },
   "outputs": [
    {
     "name": "stdout",
     "output_type": "stream",
     "text": [
      "P Observado:  0.11\n"
     ]
    }
   ],
   "source": [
    "acum=0\n",
    "for index in X_train.index.to_list():\n",
    "  if pd.DataFrame(y_train)[\"target\"].loc[index]==1 and X_train[\"sex_male\"].loc[index]==False:\n",
    "    acum+=1\n",
    "print(f\"P Observado: \",acum/len(X_train))"
   ]
  },
  {
   "cell_type": "markdown",
   "id": "5fVgvsm_oZ08",
   "metadata": {
    "id": "5fVgvsm_oZ08"
   },
   "source": [
    "Aplicamos el mitigador"
   ]
  },
  {
   "cell_type": "code",
   "execution_count": 12,
   "id": "74Xuoa1mfQPU",
   "metadata": {
    "executionInfo": {
     "elapsed": 40,
     "status": "ok",
     "timestamp": 1748538135582,
     "user": {
      "displayName": "Valentino Bustos Sak",
      "userId": "06034234704710139403"
     },
     "user_tz": 180
    },
    "id": "74Xuoa1mfQPU"
   },
   "outputs": [],
   "source": [
    "mitigador_w = Reweighing()\n",
    "modelo_w=DecisionTreeClassifier(criterion=\"gini\", max_depth=10, min_samples_leaf=5, min_samples_split=2, random_state=42)\n",
    "pipeline_W = HolPipeline(steps=[(\"bm_preprocessing\", mitigador_w), (\"estimator\", modelo_w),])\n",
    "pipeline_W.fit(X_train,y_train, bm__group_a=X_train[\"sex_male\"], bm__group_b=~X_train[\"sex_male\"])\n",
    "y_pred_weight = pipeline_W.predict(X_test, bm__group_a=X_test[\"sex_male\"], bm__group_b=~X_test[\"sex_male\"])\n"
   ]
  },
  {
   "cell_type": "markdown",
   "id": "ZrvPeh9Ooe3F",
   "metadata": {
    "id": "ZrvPeh9Ooe3F"
   },
   "source": [
    "Calculamos metricas"
   ]
  },
  {
   "cell_type": "code",
   "execution_count": 13,
   "id": "bd407e19",
   "metadata": {},
   "outputs": [
    {
     "name": "stdout",
     "output_type": "stream",
     "text": [
      "Métricas de fairness (Modelo con Reweighing):\n",
      "                                       Value  Reference\n",
      "Metric                                                 \n",
      "Statistical Parity                  0.001307          0\n",
      "Disparate Impact                    1.001898          1\n",
      "Four Fifths Rule                    0.998106          1\n",
      "Cohen D                             0.002826          0\n",
      "2SD Rule                            0.017480          0\n",
      "Equality of Opportunity Difference  0.094875          0\n",
      "False Positive Rate Difference     -0.228041          0\n",
      "Average Odds Difference            -0.066583          0\n",
      "Accuracy Difference                 0.158170          0\n"
     ]
    },
    {
     "data": {
      "image/png": "[encoded data removed]",
      "text/plain": [
       "<Figure size 500x400 with 2 Axes>"
      ]
     },
     "metadata": {},
     "output_type": "display_data"
    },
    {
     "name": "stdout",
     "output_type": "stream",
     "text": [
      "\n",
      "Reporte de clasificación:\n",
      "              precision    recall  f1-score   support\n",
      "\n",
      "     bad (0)       0.48      0.50      0.49        90\n",
      "    good (1)       0.78      0.77      0.78       210\n",
      "\n",
      "    accuracy                           0.69       300\n",
      "   macro avg       0.63      0.64      0.63       300\n",
      "weighted avg       0.69      0.69      0.69       300\n",
      "\n"
     ]
    }
   ],
   "source": [
    "mostrar_metricas_y_matriz_confusion(y_test, y_pred_weight, X_test['sex_male'], ~X_test['sex_male'], nombre_modelo=\"Modelo con Reweighing\")"
   ]
  },
  {
   "cell_type": "markdown",
   "id": "qK8I_xj8qvds",
   "metadata": {
    "id": "qK8I_xj8qvds"
   },
   "source": [
    "Mejoró un poco el TPR pero empeoró un montón el FPR"
   ]
  },
  {
   "cell_type": "markdown",
   "id": "W3bh3Ps649Qy",
   "metadata": {
    "id": "W3bh3Ps649Qy"
   },
   "source": [
    "### Correlation remover"
   ]
  },
  {
   "cell_type": "markdown",
   "id": "e_iNOczg5_sy",
   "metadata": {
    "id": "e_iNOczg5_sy"
   },
   "source": [
    "Buscamos correlaciones"
   ]
  },
  {
   "cell_type": "code",
   "execution_count": 14,
   "id": "GU4EH1X75SxR",
   "metadata": {
    "colab": {
     "base_uri": "https://localhost:8080/",
     "height": 576
    },
    "executionInfo": {
     "elapsed": 361,
     "status": "ok",
     "timestamp": 1748538149824,
     "user": {
      "displayName": "Valentino Bustos Sak",
      "userId": "06034234704710139403"
     },
     "user_tz": 180
    },
    "id": "GU4EH1X75SxR",
    "outputId": "8bdcc6f1-e483-4757-e27c-71bbd5c59e1a"
   },
   "outputs": [
    {
     "name": "stderr",
     "output_type": "stream",
     "text": [
      "C:\\Users\\lean3\\AppData\\Local\\Temp\\ipykernel_15232\\257248036.py:2: SettingWithCopyWarning: \n",
      "A value is trying to be set on a copy of a slice from a DataFrame.\n",
      "Try using .loc[row_indexer,col_indexer] = value instead\n",
      "\n",
      "See the caveats in the documentation: https://pandas.pydata.org/pandas-docs/stable/user_guide/indexing.html#returning-a-view-versus-a-copy\n",
      "  X_num[\"sex\"] = df[\"sex\"].map({\"male\": 1, \"female\": 0})\n"
     ]
    },
    {
     "data": {
      "image/png": "[encoded data removed]",
      "text/plain": [
       "<Figure size 640x480 with 2 Axes>"
      ]
     },
     "metadata": {},
     "output_type": "display_data"
    }
   ],
   "source": [
    "X_num=df[[\"age\",\"duration\",\"amount\",\"sex\"]]\n",
    "X_num[\"sex\"] = df[\"sex\"].map({\"male\": 1, \"female\": 0})\n",
    "\n",
    "corr = X_num.corr()\n",
    "sns.heatmap(corr, annot=True, cmap='coolwarm')\n",
    "plt.title(\"Matriz de Correlación\")\n",
    "plt.show()\n"
   ]
  },
  {
   "cell_type": "markdown",
   "id": "-E9Feyzt6CEI",
   "metadata": {
    "id": "-E9Feyzt6CEI"
   },
   "source": [
    "Hay"
   ]
  },
  {
   "cell_type": "code",
   "execution_count": 15,
   "id": "DCNtfFiR6ODZ",
   "metadata": {
    "executionInfo": {
     "elapsed": 19,
     "status": "ok",
     "timestamp": 1748538153255,
     "user": {
      "displayName": "Valentino Bustos Sak",
      "userId": "06034234704710139403"
     },
     "user_tz": 180
    },
    "id": "DCNtfFiR6ODZ"
   },
   "outputs": [],
   "source": [
    "mitigador_cr = CorrelationRemover()\n",
    "modelo_cr=DecisionTreeClassifier(criterion=\"gini\", max_depth=10, min_samples_leaf=5, min_samples_split=2, random_state=42)\n",
    "pipeline_cr = HolPipeline(steps=[(\"bm_preprocessing\", mitigador_cr), (\"estimator\", modelo_cr),])\n",
    "pipeline_cr.fit(X_train[[\"age\",\"duration\",\"amount\"]],y_train, bm__group_a=X_train[\"sex_male\"], bm__group_b=~X_train[\"sex_male\"])\n",
    "y_pred_cr = pipeline_cr.predict(X_test[[\"age\",\"duration\",\"amount\"]], bm__group_a=X_test[\"sex_male\"], bm__group_b=~X_test[\"sex_male\"])"
   ]
  },
  {
   "cell_type": "code",
   "execution_count": 16,
   "id": "05198efe",
   "metadata": {},
   "outputs": [
    {
     "name": "stdout",
     "output_type": "stream",
     "text": [
      "Métricas de fairness (Modelo con Correlation Remover):\n",
      "                                       Value  Reference\n",
      "Metric                                                 \n",
      "Statistical Parity                  0.000000          0\n",
      "Disparate Impact                    1.000000          1\n",
      "Four Fifths Rule                    1.000000          1\n",
      "Cohen D                             0.000000          0\n",
      "2SD Rule                            0.000000          0\n",
      "Equality of Opportunity Difference  0.071442          0\n",
      "False Positive Rate Difference     -0.168919          0\n",
      "Average Odds Difference            -0.048738          0\n",
      "Accuracy Difference                 0.130719          0\n"
     ]
    },
    {
     "data": {
      "image/png": "[encoded data removed]",
      "text/plain": [
       "<Figure size 500x400 with 2 Axes>"
      ]
     },
     "metadata": {},
     "output_type": "display_data"
    },
    {
     "name": "stdout",
     "output_type": "stream",
     "text": [
      "\n",
      "Reporte de clasificación:\n",
      "              precision    recall  f1-score   support\n",
      "\n",
      "     bad (0)       0.44      0.39      0.41        90\n",
      "    good (1)       0.75      0.79      0.77       210\n",
      "\n",
      "    accuracy                           0.67       300\n",
      "   macro avg       0.59      0.59      0.59       300\n",
      "weighted avg       0.66      0.67      0.66       300\n",
      "\n"
     ]
    }
   ],
   "source": [
    "mostrar_metricas_y_matriz_confusion(y_test, y_pred_cr, X_test['sex_male'], ~X_test['sex_male'], nombre_modelo=\"Modelo con Correlation Remover\")"
   ]
  },
  {
   "cell_type": "markdown",
   "id": "be84bd82",
   "metadata": {},
   "source": [
    "Mejoró bastante el Equal Opportunity, ahora está dentro del umbral. Sin embargo el FPRD todavía es peor que el baseline"
   ]
  },
  {
   "cell_type": "markdown",
   "id": "68a66dab",
   "metadata": {},
   "source": [
    "## In-processing"
   ]
  },
  {
   "cell_type": "markdown",
   "id": "39bf1873",
   "metadata": {},
   "source": [
    "### Prejudice Remover"
   ]
  },
  {
   "cell_type": "markdown",
   "id": "6f9b5f9a",
   "metadata": {},
   "source": [
    "Vamos con un modelo con mitigacion in-processing. Para esto introducimos Prejudice Remover pero esta vez tenemos que aplicarlo en un regresor logístico por la naturaleza de este método de mitigación:"
   ]
  },
  {
   "cell_type": "markdown",
   "id": "b7b34e61",
   "metadata": {},
   "source": [
    "Baseline logistic regression:"
   ]
  },
  {
   "cell_type": "code",
   "execution_count": 17,
   "id": "44b12a40",
   "metadata": {},
   "outputs": [
    {
     "name": "stdout",
     "output_type": "stream",
     "text": [
      "                                       Value  Reference\n",
      "Metric                                                 \n",
      "Statistical Parity                  0.071895          0\n",
      "Disparate Impact                    1.104364          1\n",
      "Four Fifths Rule                    0.905498          1\n",
      "Cohen D                             0.166362          0\n",
      "2SD Rule                            1.026872          0\n",
      "Equality of Opportunity Difference -0.016765          0\n",
      "False Positive Rate Difference      0.179054          0\n",
      "Average Odds Difference             0.081144          0\n",
      "Accuracy Difference                -0.048366          0\n"
     ]
    },
    {
     "name": "stderr",
     "output_type": "stream",
     "text": [
      "c:\\Users\\lean3\\anaconda3\\envs\\pymc_env\\Lib\\site-packages\\sklearn\\linear_model\\_logistic.py:465: ConvergenceWarning: lbfgs failed to converge (status=1):\n",
      "STOP: TOTAL NO. of ITERATIONS REACHED LIMIT.\n",
      "\n",
      "Increase the number of iterations (max_iter) or scale the data as shown in:\n",
      "    https://scikit-learn.org/stable/modules/preprocessing.html\n",
      "Please also refer to the documentation for alternative solver options:\n",
      "    https://scikit-learn.org/stable/modules/linear_model.html#logistic-regression\n",
      "  n_iter_i = _check_optimize_result(\n"
     ]
    }
   ],
   "source": [
    "from sklearn.linear_model import LogisticRegression\n",
    "\n",
    "# Entrenar modelo baseline LogisticRegression\n",
    "logreg = LogisticRegression(random_state=42, max_iter=1000)\n",
    "logreg.fit(X_train, y_train)\n",
    "\n",
    "# Predicciones\n",
    "y_pred_logreg = logreg.predict(X_test)\n",
    "\n",
    "# Métricas\n",
    "\n",
    "# Evaluate bias metrics for pipeline model\n",
    "metrics_inprocessing_lr = classification_bias_metrics(\n",
    "    X_test['sex_male'], \n",
    "    ~X_test['sex_male'], \n",
    "    y_pred_logreg, \n",
    "    y_test, \n",
    "    metric_type='both')\n",
    "\n",
    "print(metrics_inprocessing_lr)"
   ]
  },
  {
   "cell_type": "markdown",
   "id": "b8e1df00",
   "metadata": {},
   "source": [
    "Prejudice Remover:"
   ]
  },
  {
   "cell_type": "code",
   "execution_count": 18,
   "id": "164fdcd8",
   "metadata": {},
   "outputs": [
    {
     "name": "stdout",
     "output_type": "stream",
     "text": [
      "[elapsed time: 00:00:00 | iter:17/100 | loss:283.6373]\n",
      "[elapsed time: 00:00:00 | Best Loss : 283.6373]\n",
      "Métricas de fairness (Modelo con Prejudice Remover):\n",
      "                                       Value  Reference\n",
      "Metric                                                 \n",
      "Statistical Parity                  0.026144          0\n",
      "Disparate Impact                    1.036765          1\n",
      "Four Fifths Rule                    0.964539          1\n",
      "Cohen D                             0.059137          0\n",
      "2SD Rule                            0.365636          0\n",
      "Equality of Opportunity Difference  0.104591          0\n",
      "False Positive Rate Difference     -0.173986          0\n",
      "Average Odds Difference            -0.034698          0\n",
      "Accuracy Difference                 0.151634          0\n"
     ]
    },
    {
     "data": {
      "image/png": "[encoded data removed]",
      "text/plain": [
       "<Figure size 500x400 with 2 Axes>"
      ]
     },
     "metadata": {},
     "output_type": "display_data"
    },
    {
     "name": "stdout",
     "output_type": "stream",
     "text": [
      "\n",
      "Reporte de clasificación:\n",
      "              precision    recall  f1-score   support\n",
      "\n",
      "     bad (0)       0.51      0.46      0.48        90\n",
      "    good (1)       0.78      0.81      0.80       210\n",
      "\n",
      "    accuracy                           0.71       300\n",
      "   macro avg       0.64      0.63      0.64       300\n",
      "weighted avg       0.70      0.71      0.70       300\n",
      "\n"
     ]
    }
   ],
   "source": [
    "import warnings\n",
    "from sklearn.linear_model import LogisticRegression\n",
    "warnings.filterwarnings('ignore')\n",
    "\n",
    "modelo_pr = LogisticRegression()\n",
    "mitigator = PrejudiceRemover(maxiter=100, fit_intercept=True, verbose=1, print_interval=1).transform_estimator(modelo_pr)\n",
    "\n",
    "\n",
    "# Define pipeline\n",
    "pipeline_pr = HolPipeline(steps=[('scalar', StandardScaler()), ('bm_inprocessing', mitigator)])\n",
    "pipeline_pr.fit(X_train,y_train, bm__group_a=X_train[\"sex_male\"], bm__group_b=~X_train[\"sex_male\"])\n",
    "\n",
    "# Make predictions\n",
    "y_pred_pipeline_pr = pipeline_pr.predict(X_test, bm__group_a=X_test[\"sex_male\"], bm__group_b=~X_test[\"sex_male\"])\n",
    "\n",
    "# Evaluate bias metrics for pipeline model\n",
    "mostrar_metricas_y_matriz_confusion(y_test, y_pred_pipeline_pr, X_test['sex_male'], ~X_test['sex_male'], nombre_modelo=\"Modelo con Prejudice Remover\")"
   ]
  },
  {
   "cell_type": "markdown",
   "id": "cdd2bb9d",
   "metadata": {},
   "source": [
    "Nos da peores métricas que el baseline si nos fijamos solo en Equalized Odds"
   ]
  },
  {
   "cell_type": "markdown",
   "id": "614548b8",
   "metadata": {},
   "source": [
    "## Post-processing"
   ]
  },
  {
   "cell_type": "markdown",
   "id": "c1b6a3f5",
   "metadata": {},
   "source": [
    "### MLDebiaser"
   ]
  },
  {
   "cell_type": "code",
   "execution_count": 19,
   "id": "3db8befd",
   "metadata": {},
   "outputs": [
    {
     "name": "stdout",
     "output_type": "stream",
     "text": [
      "[elapsed time: 00:00:00 | iter:2/2]\n",
      "Métricas de fairness (Modelo con mldebiaser):\n",
      "                                       Value  Reference\n",
      "Metric                                                 \n",
      "Statistical Parity                 -0.035294          0\n",
      "Disparate Impact                    0.951872          1\n",
      "Four Fifths Rule                    0.951872          1\n",
      "Cohen D                            -0.077289          0\n",
      "2SD Rule                           -0.477863          0\n",
      "Equality of Opportunity Difference -0.003048          0\n",
      "False Positive Rate Difference     -0.152027          0\n",
      "Average Odds Difference            -0.077538          0\n",
      "Accuracy Difference                 0.069281          0\n"
     ]
    },
    {
     "data": {
      "image/png": "[encoded data removed]",
      "text/plain": [
       "<Figure size 500x400 with 2 Axes>"
      ]
     },
     "metadata": {},
     "output_type": "display_data"
    },
    {
     "name": "stdout",
     "output_type": "stream",
     "text": [
      "\n",
      "Reporte de clasificación:\n",
      "              precision    recall  f1-score   support\n",
      "\n",
      "     bad (0)       0.51      0.50      0.50        90\n",
      "    good (1)       0.79      0.79      0.79       210\n",
      "\n",
      "    accuracy                           0.70       300\n",
      "   macro avg       0.65      0.65      0.65       300\n",
      "weighted avg       0.70      0.70      0.70       300\n",
      "\n"
     ]
    }
   ],
   "source": [
    "from holisticai.bias.mitigation import MLDebiaser\n",
    "\n",
    "# Definir el mitigador post-processing\n",
    "mitigator = MLDebiaser()\n",
    "\n",
    "# Definir el modelo base\n",
    "model = DecisionTreeClassifier(criterion=\"gini\", max_depth=10, min_samples_leaf=5, min_samples_split=2, random_state=42)\n",
    "\n",
    "# Crear el pipeline con HolisticAI\n",
    "pipeline_ml_debiaser = HolPipeline(steps=[\n",
    "    ('scalar', StandardScaler()),\n",
    "    (\"estimator\", model),\n",
    "    (\"bm_posprocessing\", mitigator)\n",
    "])\n",
    "\n",
    "# Entrenar el pipeline\n",
    "pipeline_ml_debiaser.fit(\n",
    "    X_train, y_train,\n",
    "    bm__group_a=X_train[\"sex_male\"],\n",
    "    bm__group_b=~X_train[\"sex_male\"]\n",
    ")\n",
    "\n",
    "# Realizar predicciones\n",
    "y_pred_ml_debiaser = pipeline_ml_debiaser.predict(\n",
    "    X_test,\n",
    "    bm__group_a=X_test[\"sex_male\"],\n",
    "    bm__group_b=~X_test[\"sex_male\"]\n",
    ")\n",
    "\n",
    "# Calcular métricas de fairness\n",
    "mostrar_metricas_y_matriz_confusion(y_test, y_pred_ml_debiaser, X_test['sex_male'], ~X_test['sex_male'], nombre_modelo=\"Modelo con mldebiaser\")"
   ]
  },
  {
   "cell_type": "markdown",
   "id": "0ad2bf47",
   "metadata": {},
   "source": [
    "Con este último el Equal Opportunity quedó excelente, pero el FPRD sigue siendo peor que el baseline"
   ]
  },
  {
   "cell_type": "markdown",
   "id": "2af46353",
   "metadata": {},
   "source": [
    "# 05 - Conclusiones"
   ]
  },
  {
   "cell_type": "code",
   "execution_count": 20,
   "id": "43d3762b",
   "metadata": {},
   "outputs": [
    {
     "data": {
      "image/png": "[encoded data removed]",
      "text/plain": [
       "<Figure size 1500x500 with 1 Axes>"
      ]
     },
     "metadata": {},
     "output_type": "display_data"
    }
   ],
   "source": [
    "# Comparación de métricas de desempeño - Clase 1 para todos los modelos (recall clase \"bad (0)\")\n",
    "\n",
    "labels = ['precision', 'recall', 'f1-score']\n",
    "clase = 'good (1)'\n",
    "clase_bad = 'bad (0)'\n",
    "\n",
    "# Reportes de clasificación para cada modelo\n",
    "report_base = classification_report(y_test, y_pred, target_names=[\"bad (0)\", \"good (1)\"], output_dict=True, zero_division=0)\n",
    "report_reweighting = classification_report(y_test, y_pred_weight, target_names=[\"bad (0)\", \"good (1)\"], output_dict=True, zero_division=0)\n",
    "report_corr = classification_report(y_test, y_pred_cr, target_names=[\"bad (0)\", \"good (1)\"], output_dict=True, zero_division=0)\n",
    "report_pr = classification_report(y_test, y_pred_pipeline_pr, target_names=[\"bad (0)\", \"good (1)\"], output_dict=True, zero_division=0)\n",
    "report_ml_debiaser = classification_report(y_test, y_pred_ml_debiaser, target_names=[\"bad (0)\", \"good (1)\"], output_dict=True, zero_division=0)\n",
    "\n",
    "# Extraer valores para cada métrica y modelo\n",
    "values_base = [report_base[clase][metric] if metric != 'recall' else report_base[clase_bad]['recall'] for metric in labels]\n",
    "values_w = [report_reweighting[clase][metric] if metric != 'recall' else report_reweighting[clase_bad]['recall'] for metric in labels]\n",
    "values_corr = [report_corr[clase][metric] if metric != 'recall' else report_corr[clase_bad]['recall'] for metric in labels]\n",
    "values_pr = [report_pr[clase][metric] if metric != 'recall' else report_pr[clase_bad]['recall'] for metric in labels]\n",
    "values_ml_debiaser = [report_ml_debiaser[clase][metric] if metric != 'recall' else report_ml_debiaser[clase_bad]['recall'] for metric in labels]\n",
    "\n",
    "# Configuración del gráfico\n",
    "x = np.arange(len(labels))\n",
    "width = 0.15\n",
    "\n",
    "plt.figure(figsize=(15, 5))\n",
    "bars1 = plt.bar(x - 2*width, values_base, width, label='Modelo Base')\n",
    "bars2 = plt.bar(x - width, values_w, width, label='Reweighting')\n",
    "bars3 = plt.bar(x, values_corr, width, label='Correlation Remover')\n",
    "bars4 = plt.bar(x + width, values_pr, width, label='Prejudice Remover')\n",
    "bars5 = plt.bar(x + 2*width, values_ml_debiaser, width, label='MLDebiaser')\n",
    "\n",
    "# Agregar valores encima de cada barra\n",
    "def autolabel(bars):\n",
    "    for bar in bars:\n",
    "        height = bar.get_height()\n",
    "        plt.annotate(f'{height:.2f}',\n",
    "                     xy=(bar.get_x() + bar.get_width() / 2, height),\n",
    "                     xytext=(0, 3),  # 3 puntos de desplazamiento vertical\n",
    "                     textcoords=\"offset points\",\n",
    "                     ha='center', va='bottom', fontsize=9)\n",
    "\n",
    "for bars in [bars1, bars2, bars3, bars4, bars5]:\n",
    "    autolabel(bars)\n",
    "\n",
    "plt.xticks(x, labels)\n",
    "plt.ylim(0, 1)\n",
    "plt.ylabel('Valor')\n",
    "plt.title('Comparación de métricas')\n",
    "plt.legend()\n",
    "plt.grid(axis='y', linestyle='-', alpha=0.5)\n",
    "plt.tight_layout()\n",
    "plt.show()"
   ]
  },
  {
   "cell_type": "markdown",
   "id": "d8e9a281",
   "metadata": {},
   "source": [
    "El `recall` que se muestra en el plot corresponde con la clase `bad`."
   ]
  },
  {
   "cell_type": "code",
   "execution_count": 21,
   "id": "ae699bdb",
   "metadata": {},
   "outputs": [
    {
     "data": {
      "text/html": [
       "<div>\n",
       "<style scoped>\n",
       "    .dataframe tbody tr th:only-of-type {\n",
       "        vertical-align: middle;\n",
       "    }\n",
       "\n",
       "    .dataframe tbody tr th {\n",
       "        vertical-align: top;\n",
       "    }\n",
       "\n",
       "    .dataframe thead th {\n",
       "        text-align: right;\n",
       "    }\n",
       "</style>\n",
       "<table border=\"1\" class=\"dataframe\">\n",
       "  <thead>\n",
       "    <tr style=\"text-align: right;\">\n",
       "      <th></th>\n",
       "      <th>Modelo Base</th>\n",
       "      <th>Reweighting</th>\n",
       "      <th>Correlation Remover</th>\n",
       "      <th>Prejudice Remover</th>\n",
       "      <th>MLDebiaser</th>\n",
       "      <th>Referencia</th>\n",
       "    </tr>\n",
       "  </thead>\n",
       "  <tbody>\n",
       "    <tr>\n",
       "      <th>Statistical Parity</th>\n",
       "      <td>-0.018301</td>\n",
       "      <td>0.001307</td>\n",
       "      <td>0.000000</td>\n",
       "      <td>0.026144</td>\n",
       "      <td>-0.035294</td>\n",
       "      <td>-0.018301</td>\n",
       "    </tr>\n",
       "    <tr>\n",
       "      <th>Equality of Opportunity Difference</th>\n",
       "      <td>-0.098304</td>\n",
       "      <td>0.094875</td>\n",
       "      <td>0.071442</td>\n",
       "      <td>0.104591</td>\n",
       "      <td>-0.003048</td>\n",
       "      <td>-0.098304</td>\n",
       "    </tr>\n",
       "    <tr>\n",
       "      <th>False Positive Rate Difference</th>\n",
       "      <td>0.089527</td>\n",
       "      <td>-0.228041</td>\n",
       "      <td>-0.168919</td>\n",
       "      <td>-0.173986</td>\n",
       "      <td>-0.152027</td>\n",
       "      <td>0.089527</td>\n",
       "    </tr>\n",
       "    <tr>\n",
       "      <th>Accuracy Difference</th>\n",
       "      <td>-0.078431</td>\n",
       "      <td>0.158170</td>\n",
       "      <td>0.130719</td>\n",
       "      <td>0.151634</td>\n",
       "      <td>0.069281</td>\n",
       "      <td>-0.078431</td>\n",
       "    </tr>\n",
       "    <tr>\n",
       "      <th>Precision (good)</th>\n",
       "      <td>0.772277</td>\n",
       "      <td>0.782609</td>\n",
       "      <td>0.750000</td>\n",
       "      <td>0.777273</td>\n",
       "      <td>0.786730</td>\n",
       "      <td>0.772277</td>\n",
       "    </tr>\n",
       "    <tr>\n",
       "      <th>Recall (bad)</th>\n",
       "      <td>0.488889</td>\n",
       "      <td>0.500000</td>\n",
       "      <td>0.388889</td>\n",
       "      <td>0.455556</td>\n",
       "      <td>0.500000</td>\n",
       "      <td>0.488889</td>\n",
       "    </tr>\n",
       "  </tbody>\n",
       "</table>\n",
       "</div>"
      ],
      "text/plain": [
       "                                    Modelo Base  Reweighting  \\\n",
       "Statistical Parity                    -0.018301     0.001307   \n",
       "Equality of Opportunity Difference    -0.098304     0.094875   \n",
       "False Positive Rate Difference         0.089527    -0.228041   \n",
       "Accuracy Difference                   -0.078431     0.158170   \n",
       "Precision (good)                       0.772277     0.782609   \n",
       "Recall (bad)                           0.488889     0.500000   \n",
       "\n",
       "                                    Correlation Remover  Prejudice Remover  \\\n",
       "Statistical Parity                             0.000000           0.026144   \n",
       "Equality of Opportunity Difference             0.071442           0.104591   \n",
       "False Positive Rate Difference                -0.168919          -0.173986   \n",
       "Accuracy Difference                            0.130719           0.151634   \n",
       "Precision (good)                               0.750000           0.777273   \n",
       "Recall (bad)                                   0.388889           0.455556   \n",
       "\n",
       "                                    MLDebiaser  Referencia  \n",
       "Statistical Parity                   -0.035294   -0.018301  \n",
       "Equality of Opportunity Difference   -0.003048   -0.098304  \n",
       "False Positive Rate Difference       -0.152027    0.089527  \n",
       "Accuracy Difference                   0.069281   -0.078431  \n",
       "Precision (good)                      0.786730    0.772277  \n",
       "Recall (bad)                          0.500000    0.488889  "
      ]
     },
     "execution_count": 21,
     "metadata": {},
     "output_type": "execute_result"
    }
   ],
   "source": [
    "# Comparación tabular de métricas de fairness y desempeño para todos los modelos\n",
    "\n",
    "keys = [\n",
    "    'Modelo Base',\n",
    "    'Reweighting',\n",
    "    'Correlation Remover',\n",
    "    'Prejudice Remover',\n",
    "    'MLDebiaser'\n",
    "]\n",
    "\n",
    "def get_metrics(y_true, y_pred, group_a, group_b):\n",
    "    bias_metrics = classification_bias_metrics(\n",
    "        group_a, group_b, y_pred, y_true, metric_type='both'\n",
    "    )\n",
    "    # Extraer métricas\n",
    "    def get_metric_row(metric_name):\n",
    "        row = bias_metrics.loc[metric_name]\n",
    "        if isinstance(row, pd.Series):\n",
    "            return row.iloc[0] if len(row) else np.nan\n",
    "        return row\n",
    "    sp = get_metric_row('Statistical Parity')\n",
    "    eod = get_metric_row('Equality of Opportunity Difference')\n",
    "    fprd = get_metric_row('False Positive Rate Difference')\n",
    "    accd = get_metric_row('Accuracy Difference')\n",
    "    # Extraer métricas de desempeño\n",
    "    report = classification_report(y_true, y_pred, target_names=[\"bad (0)\", \"good (1)\"], output_dict=True, zero_division=0)\n",
    "    precision_good = report['good (1)']['precision']\n",
    "    recall_bad = report['bad (0)']['recall']\n",
    "    return pd.Series({\n",
    "        'Statistical Parity': sp,\n",
    "        'Equality of Opportunity Difference': eod,\n",
    "        'False Positive Rate Difference': fprd,\n",
    "        'Accuracy Difference': accd,\n",
    "        'Precision (good)': precision_good,\n",
    "        'Recall (bad)': recall_bad\n",
    "    })\n",
    "\n",
    "metrics_base = get_metrics(y_test, y_pred, X_test['sex_male'], ~X_test['sex_male'])\n",
    "metrics_w = get_metrics(y_test, y_pred_weight, X_test['sex_male'], ~X_test['sex_male'])\n",
    "metrics_corr = get_metrics(y_test, y_pred_cr, X_test['sex_male'], ~X_test['sex_male'])\n",
    "metrics_pr = get_metrics(y_test, y_pred_pipeline_pr, X_test['sex_male'], ~X_test['sex_male'])\n",
    "metrics_ml_debiaser = get_metrics(y_test, y_pred_ml_debiaser, X_test['sex_male'], ~X_test['sex_male'])\n",
    "\n",
    "comparison = pd.concat(\n",
    "    [metrics_base, metrics_w, metrics_corr, metrics_pr, metrics_ml_debiaser],\n",
    "    axis=1\n",
    ")\n",
    "comparison.columns = keys\n",
    "comparison['Referencia'] = comparison['Modelo Base']\n",
    "\n",
    "comparison"
   ]
  },
  {
   "cell_type": "markdown",
   "id": "fe88e6e1",
   "metadata": {},
   "source": [
    "Luego de aplicar distintas técnicas de mitigación de sesgo al modelo base, se observa una mejora significativa en varias métricas de equidad sin comprometer de forma crítica el rendimiento del modelo.\n",
    "\n",
    "- **`MLDebiaser`** resultó ser el método más *balanceado*, mejorando las métricas de justicia (especialmente *Equality of Opportunity* y *Accuracy Difference*) sin deteriorar el rendimiento predictivo. De hecho, mostró una leve mejora tanto en *precision* como en *recall*.\n",
    "\n",
    "- **`Correlation Remover`** fue el más efectivo en términos de *paridad estadística absoluta*, logrando un valor exactamente nulo en *Statistical Parity Difference*. Sin embargo, esta mejora fue un *trade-off* con el descenso en el *recall*.\n",
    "\n",
    "- **`Reweighting`** y **`Prejudice Remover`** mostraron buen desempeño en algunas métricas, pero tendieron a *sobrecompensar* el sesgo original, introduciendo diferencias negativas en tasas de falsos positivos o disminuyendo la calidad general del modelo.\n",
    "\n",
    "---\n",
    "\n",
    "**El objetivo principal es optimizar `Equalized Odds`**\n",
    "\n",
    "Se prioriza minimizar tanto la diferencia en la **tasa de falsos positivos** como en la **tasa de verdaderos positivos** (*Equality of Opportunity*). Bajo este criterio, se observa que **`Prejudice Remover`** y **`MLDebiaser`** son los métodos que logran el mejor equilibrio.\n",
    "\n",
    "---\n",
    "\n",
    "**Próximos pasos**:\n",
    "\n",
    "- *Explorar variantes del modelo base* (por ejemplo, `RandomForestClassifier` o `GradientBoostingClassifier`) para evaluar si se puede mantener o incluso mejorar la equidad sin sacrificar precisión.\n",
    "\n",
    "- *Afinar hiperparámetros del mitigador*, en este caso `Prejudice Remover`, que si bien mostró buenos resultados, parece estar sobrecompensando el sesgo. Ajustar sus parámetros podría ayudar a lograr un mejor balance entre equidad y desempeño.\n"
   ]
  }
 ],
 "metadata": {
  "colab": {
   "provenance": []
  },
  "kernelspec": {
   "display_name": "pymc_env",
   "language": "python",
   "name": "python3"
  },
  "language_info": {
   "codemirror_mode": {
    "name": "ipython",
    "version": 3
   },
   "file_extension": ".py",
   "mimetype": "text/x-python",
   "name": "python",
   "nbconvert_exporter": "python",
   "pygments_lexer": "ipython3",
   "version": "3.11.10"
  }
 },
 "nbformat": 4,
 "nbformat_minor": 5
}
