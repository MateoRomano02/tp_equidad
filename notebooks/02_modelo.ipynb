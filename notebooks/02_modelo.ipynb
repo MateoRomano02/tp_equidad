{
 "cells": [
  {
   "cell_type": "markdown",
   "id": "66e33fe2",
   "metadata": {},
   "source": [
    "# 02 - Modelo Inicial\n",
    "\n",
    "Este notebook corresponde al punto N°2 del trabajo práctico sobre equidad en aprendizaje automático."
   ]
  },
  {
   "cell_type": "markdown",
   "id": "0490183a",
   "metadata": {},
   "source": [
    "## Objetivo\n",
    "Entrenar un modelo de clasificación clásico sobre el dataset *German Credit Data* y evaluar su rendimiento con métricas como accuracy, precision, recall y F1-score. Además, se analizará cuál error es más costoso para el banco."
   ]
  },
  {
   "cell_type": "code",
   "execution_count": null,
   "id": "615d3222",
   "metadata": {},
   "outputs": [],
   "source": [
    "import pandas as pd\n",
    "import numpy as np\n",
    "from sklearn.model_selection import train_test_split\n",
    "from sklearn.preprocessing import LabelEncoder, StandardScaler\n",
    "from sklearn.ensemble import RandomForestClassifier\n",
    "from sklearn.metrics import classification_report, confusion_matrix\n",
    "import seaborn as sns\n",
    "import matplotlib.pyplot as plt\n"
   ]
  },
  {
   "cell_type": "markdown",
   "id": "35d4a685",
   "metadata": {},
   "source": [
    "## Carga y preparación de datos"
   ]
  },
  {
   "cell_type": "code",
   "execution_count": null,
   "id": "e542bd10",
   "metadata": {},
   "outputs": [],
   "source": [
    "# Cargar datos - adaptar path según tu estructura\n",
    "df = pd.read_csv(\"../data/german_credit_data.csv\")  # <-- Asegurarse de que el archivo exista allí\n",
    "\n",
    "df.head()\n"
   ]
  },
  {
   "cell_type": "code",
   "execution_count": null,
   "id": "561f691b",
   "metadata": {},
   "outputs": [],
   "source": [
    "# Reemplazo de valores nulos (si hay)\n",
    "df = df.dropna()\n",
    "\n",
    "# Codificación de variables categóricas\n",
    "label_encoders = {}\n",
    "for col in df.select_dtypes(include='object').columns:\n",
    "    le = LabelEncoder()\n",
    "    df[col] = le.fit_transform(df[col])\n",
    "    label_encoders[col] = le\n",
    "\n",
    "# Separar variables predictoras y target\n",
    "X = df.drop(\"CreditRisk\", axis=1)\n",
    "y = df[\"CreditRisk\"]  # Asegurarse que el target sea binario: 0=Bad, 1=Good (ajustar si es necesario)\n",
    "\n",
    "# Estandarización\n",
    "scaler = StandardScaler()\n",
    "X_scaled = scaler.fit_transform(X)\n",
    "\n",
    "# Train/Test Split\n",
    "X_train, X_test, y_train, y_test = train_test_split(X_scaled, y, test_size=0.3, random_state=42)\n"
   ]
  },
  {
   "cell_type": "markdown",
   "id": "11bd0dd7",
   "metadata": {},
   "source": [
    "## Entrenamiento del modelo"
   ]
  },
  {
   "cell_type": "code",
   "execution_count": null,
   "id": "cd8a736a",
   "metadata": {},
   "outputs": [],
   "source": [
    "clf = RandomForestClassifier(random_state=42)\n",
    "clf.fit(X_train, y_train)\n",
    "\n",
    "y_pred = clf.predict(X_test)\n"
   ]
  },
  {
   "cell_type": "markdown",
   "id": "a0199697",
   "metadata": {},
   "source": [
    "## Evaluación del modelo"
   ]
  },
  {
   "cell_type": "code",
   "execution_count": null,
   "id": "185eac79",
   "metadata": {},
   "outputs": [],
   "source": [
    "print(\"Reporte de clasificación:\")\n",
    "print(classification_report(y_test, y_pred))\n",
    "\n",
    "print(\"Matriz de confusión:\")\n",
    "cm = confusion_matrix(y_test, y_pred)\n",
    "sns.heatmap(cm, annot=True, fmt='d', cmap='Blues')\n",
    "plt.xlabel(\"Predicción\")\n",
    "plt.ylabel(\"Real\")\n",
    "plt.title(\"Matriz de Confusión\")\n",
    "plt.show()\n"
   ]
  },
  {
   "cell_type": "markdown",
   "id": "65f54336",
   "metadata": {},
   "source": [
    "## Análisis de errores y trade-off"
   ]
  },
  {
   "cell_type": "markdown",
   "id": "697a1853",
   "metadata": {},
   "source": [
    "En el contexto bancario, donde el objetivo es **maximizar los préstamos otorgados a personas que efectivamente los van a pagar**, el **falso positivo** (darle un préstamo a alguien que no lo va a pagar) puede representar una **pérdida financiera** significativa.\n",
    "\n",
    "En cambio, un **falso negativo** (negarle un préstamo a alguien que sí lo iba a pagar) implica una oportunidad perdida, pero no un costo directo. Por eso, **los falsos positivos son el error más costoso** en este escenario.\n",
    "\n",
    "Esto debería reflejarse en el umbral de decisión y posiblemente en la elección de métricas (por ejemplo, priorizar precisión sobre recall).\n"
   ]
  }
 ],
 "metadata": {},
 "nbformat": 4,
 "nbformat_minor": 5
}
